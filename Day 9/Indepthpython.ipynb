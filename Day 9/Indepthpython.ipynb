{
 "cells": [
  {
   "cell_type": "markdown",
   "id": "e82db26a",
   "metadata": {},
   "source": [
    "### List Comprehension\n"
   ]
  },
  {
   "cell_type": "code",
   "execution_count": 3,
   "id": "c4b23569",
   "metadata": {},
   "outputs": [
    {
     "name": "stdout",
     "output_type": "stream",
     "text": [
      "[1, 4, 9, 16]\n"
     ]
    }
   ],
   "source": [
    "### Multiplying the elements of the list twice\n",
    "num = [1,2,3,4]\n",
    "\n",
    "x_num = [x**2 for x in num]\n",
    "print(x_num)"
   ]
  },
  {
   "cell_type": "code",
   "execution_count": 11,
   "id": "dc4985a7",
   "metadata": {},
   "outputs": [
    {
     "name": "stdout",
     "output_type": "stream",
     "text": [
      "[2, 4, 6]\n"
     ]
    }
   ],
   "source": [
    "### Finding the even number in the list\n",
    "num = [1,2,3,4,5,6]\n",
    "\n",
    "even_num = [ x for x in num if(x%2==0) ]\n",
    "\n",
    "print(even_num)"
   ]
  },
  {
   "cell_type": "code",
   "execution_count": 14,
   "id": "ed5533ec",
   "metadata": {},
   "outputs": [
    {
     "name": "stdout",
     "output_type": "stream",
     "text": [
      "[1, 8, 27, 64, 125, 36, 49, 512]\n"
     ]
    }
   ],
   "source": [
    "### If-else in the list\n",
    "\n",
    "num = [1,2,3,4,5,-6,-7,8]\n",
    "\n",
    "result = [x**3 if x>0 else x**2 for x in num]\n",
    "print(result)"
   ]
  },
  {
   "cell_type": "code",
   "execution_count": null,
   "id": "e5ec56a5",
   "metadata": {},
   "outputs": [],
   "source": [
    "#### Args and Quatz in Function\n",
    "\n",
    "def add(*args):\n",
    "    return add()\n",
    "\n",
    "s= add(5,6,7)\n",
    "print(s)"
   ]
  },
  {
   "cell_type": "code",
   "execution_count": 1,
   "id": "d366e3a5",
   "metadata": {},
   "outputs": [
    {
     "name": "stdout",
     "output_type": "stream",
     "text": [
      "18\n"
     ]
    }
   ],
   "source": [
    "### Using Tuple built in function\n",
    "\n",
    "abc = (5,6,7)\n",
    "\n",
    "print(sum(abc))"
   ]
  }
 ],
 "metadata": {
  "kernelspec": {
   "display_name": "Python 3",
   "language": "python",
   "name": "python3"
  },
  "language_info": {
   "codemirror_mode": {
    "name": "ipython",
    "version": 3
   },
   "file_extension": ".py",
   "mimetype": "text/x-python",
   "name": "python",
   "nbconvert_exporter": "python",
   "pygments_lexer": "ipython3",
   "version": "3.13.4"
  }
 },
 "nbformat": 4,
 "nbformat_minor": 5
}
