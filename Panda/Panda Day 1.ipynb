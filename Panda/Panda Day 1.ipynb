{
 "cells": [
  {
   "cell_type": "code",
   "execution_count": null,
   "id": "e120a23e-d363-4ee6-8b94-05bdda978c75",
   "metadata": {},
   "outputs": [],
   "source": [
    "\"\"\"🐼 What is Pandas?\n",
    "Pandas is a powerful open-source Python library used for data analysis and manipulation.\n",
    "It provides easy-to-use data structures and tools for working with structured data (like tables or Excel files).\n",
    "\n",
    "🔧 Why Use Pandas?\n",
    "Handle large datasets with ease.\n",
    "\n",
    "Clean and analyze messy data.\n",
    "\n",
    "Read/write data from CSV, Excel, SQL, etc.\n",
    "\n",
    "Perform operations like filtering, grouping, and merging.\n",
    "\n",
    "Ideal for data analysis, machine learning, and data visualization.\"\"\"\n"
   ]
  },
  {
   "cell_type": "code",
   "execution_count": 9,
   "id": "504b430b-081e-4ffd-b514-538ecc3973e9",
   "metadata": {},
   "outputs": [
    {
     "name": "stdout",
     "output_type": "stream",
     "text": [
      "0    1\n",
      "1    2\n",
      "2    3\n",
      "3    4\n",
      "4    5\n",
      "dtype: int64\n"
     ]
    }
   ],
   "source": [
    "#Example of Series\n",
    "\n",
    "import pandas as pd;\n",
    "\n",
    "x = pd.Series([1,2,3,4,5]);\n",
    "print(x)\n"
   ]
  },
  {
   "cell_type": "code",
   "execution_count": 10,
   "id": "2db8f448-a865-453b-9c4c-1fa7e4b4192a",
   "metadata": {},
   "outputs": [
    {
     "name": "stdout",
     "output_type": "stream",
     "text": [
      "a    1\n",
      "b    2\n",
      "c    3\n",
      "d    4\n",
      "e    5\n",
      "dtype: int64\n"
     ]
    }
   ],
   "source": [
    "# Example of Series using alphabetical indexing\n",
    "\n",
    "import pandas as pd;\n",
    "\n",
    "x= pd.Series([1,2,3,4,5], index=['a','b','c','d','e']);\n",
    "print(x)"
   ]
  },
  {
   "cell_type": "code",
   "execution_count": 11,
   "id": "1c9239e5-7c9d-43c2-aeb0-318040a4496d",
   "metadata": {},
   "outputs": [
    {
     "name": "stdout",
     "output_type": "stream",
     "text": [
      "3\n"
     ]
    }
   ],
   "source": [
    "# Indexing in the pandas library\n",
    "\n",
    "import pandas as pd;\n",
    "\n",
    "y= pd.Series([1,2,3,4,5])\n",
    "\n",
    "print(y[2])"
   ]
  },
  {
   "cell_type": "code",
   "execution_count": 13,
   "id": "022d140e-61d2-4631-8ae0-71738a03e291",
   "metadata": {},
   "outputs": [
    {
     "name": "stdout",
     "output_type": "stream",
     "text": [
      "1\n"
     ]
    }
   ],
   "source": [
    "# Indexing in the pandas  for alphabetical words\n",
    "z = pd.Series([1,2,3,4,5], index= ['a', 'b', 'c', 'd', 'e'])\n",
    "print(z['a'])"
   ]
  },
  {
   "cell_type": "code",
   "execution_count": 21,
   "id": "758e3320-1ff4-44fd-8695-8ecb3e818726",
   "metadata": {},
   "outputs": [
    {
     "name": "stdout",
     "output_type": "stream",
     "text": [
      "The full detail is:\n",
      "     Name  Age       City\n",
      "0  Alice   24  Bhaktapur\n"
     ]
    }
   ],
   "source": [
    "# Data Frames in Pandas\n",
    "\n",
    "# 📊 DataFrame in Pandas\n",
    "\n",
    "import pandas as pd\n",
    "\n",
    "# -------------------------------\n",
    "# 📌 1. Creating a DataFrame using a dictionary\n",
    "data = {\n",
    "    'Name': ['Alice'],\n",
    "    'Age': [24],\n",
    "    'City': [ 'Bhaktapur']\n",
    "}\n",
    "\n",
    "df = pd.DataFrame(data)\n",
    "\n",
    "print(\"The full detail is:\\n\", df)\n",
    "\n",
    "\n"
   ]
  }
 ],
 "metadata": {
  "kernelspec": {
   "display_name": "Python 3 (ipykernel)",
   "language": "python",
   "name": "python3"
  },
  "language_info": {
   "codemirror_mode": {
    "name": "ipython",
    "version": 3
   },
   "file_extension": ".py",
   "mimetype": "text/x-python",
   "name": "python",
   "nbconvert_exporter": "python",
   "pygments_lexer": "ipython3",
   "version": "3.12.7"
  }
 },
 "nbformat": 4,
 "nbformat_minor": 5
}
