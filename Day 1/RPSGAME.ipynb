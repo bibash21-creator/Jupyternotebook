{
 "cells": [
  {
   "cell_type": "markdown",
   "id": "4ca36ca3",
   "metadata": {},
   "source": [
    "### Rock, Paper, Scissor Game Using Python Language"
   ]
  },
  {
   "cell_type": "code",
   "execution_count": null,
   "id": "0220f69e",
   "metadata": {
    "vscode": {
     "languageId": "plaintext"
    }
   },
   "outputs": [],
   "source": [
    "\"\"\" Here We will be creating a rock, paper and scissor game where\n",
    "The users and computer play against each other, \n",
    "The users can play for multiple number of takes as per their likings,\n",
    "The users can choose from three option available i.e 1. Rock, 2. Paper, 3. Scissor where just inserting the number of the things \n",
    "must do the solution to the problem.\n",
    "The computer gets its choice randomly with introduction of Random() function that is built in in Python Programming. \n",
    "Always apply the rule of RPSGame to have fair competition. \n",
    "\"\"\"\n"
   ]
  },
  {
   "cell_type": "code",
   "execution_count": null,
   "id": "e3479974",
   "metadata": {
    "vscode": {
     "languageId": "plaintext"
    }
   },
   "outputs": [],
   "source": []
  }
 ],
 "metadata": {
  "language_info": {
   "name": "python"
  }
 },
 "nbformat": 4,
 "nbformat_minor": 5
}
