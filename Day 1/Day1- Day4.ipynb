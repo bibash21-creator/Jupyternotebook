{
 "cells": [
  {
   "cell_type": "code",
   "execution_count": 2,
   "id": "f06b0923",
   "metadata": {},
   "outputs": [
    {
     "name": "stdout",
     "output_type": "stream",
     "text": [
      "Hello world\n"
     ]
    }
   ],
   "source": [
    "print('Hello world');"
   ]
  },
  {
   "cell_type": "code",
   "execution_count": 3,
   "id": "fcd2eb51",
   "metadata": {},
   "outputs": [
    {
     "name": "stdout",
     "output_type": "stream",
     "text": [
      "Hey Python\n"
     ]
    }
   ],
   "source": [
    "print(\"Hey Python\")"
   ]
  },
  {
   "cell_type": "code",
   "execution_count": 5,
   "id": "30b2e122",
   "metadata": {},
   "outputs": [
    {
     "name": "stdout",
     "output_type": "stream",
     "text": [
      "This is OP\n"
     ]
    }
   ],
   "source": [
    "print (\"This is OP\");\n",
    "\n",
    "#ctrl + enter to run the cell\n",
    "\n",
    "#escape + b to create a new cell below\n",
    "\n",
    "#shift + enter to run the cell"
   ]
  },
  {
   "cell_type": "markdown",
   "id": "e28799b5",
   "metadata": {},
   "source": [
    "# Python Programming Language \n"
   ]
  },
  {
   "cell_type": "markdown",
   "id": "3dab611a",
   "metadata": {},
   "source": [
    "# Head1\n",
    "## Head2\n",
    "### Head3\n"
   ]
  },
  {
   "cell_type": "code",
   "execution_count": 7,
   "id": "89de5f02",
   "metadata": {},
   "outputs": [],
   "source": [
    "#Input_Output\n",
    "# Value and Variables\n",
    "# Data Types\n",
    "# Operators\n",
    "# if-else\n",
    "# Loops\n"
   ]
  },
  {
   "cell_type": "markdown",
   "id": "2b0659d7",
   "metadata": {},
   "source": [
    "# INPUT_OUTPUT"
   ]
  },
  {
   "cell_type": "code",
   "execution_count": 9,
   "id": "14f59d8e",
   "metadata": {},
   "outputs": [
    {
     "name": "stdout",
     "output_type": "stream",
     "text": [
      "12\n",
      "row\n"
     ]
    }
   ],
   "source": [
    "row = 12 #This is a way of initializing a variable\n",
    "print(row) #This is a way of printing the value of a variable\n",
    "print(\"row\") #This is a way of printing a string"
   ]
  },
  {
   "cell_type": "code",
   "execution_count": 11,
   "id": "52744c22",
   "metadata": {},
   "outputs": [
    {
     "name": "stdout",
     "output_type": "stream",
     "text": [
      "12\n"
     ]
    }
   ],
   "source": [
    "roll = input()\n",
    "print(roll) #This is a way of printing the value of a variable"
   ]
  },
  {
   "cell_type": "code",
   "execution_count": 13,
   "id": "ac526912",
   "metadata": {},
   "outputs": [
    {
     "name": "stdout",
     "output_type": "stream",
     "text": [
      "The roll number is: 13\n"
     ]
    }
   ],
   "source": [
    "roll = input('Enter your roll')\n",
    "print(\"The roll number is:\", roll) #This is a way of printing the value of a variable\n"
   ]
  },
  {
   "cell_type": "code",
   "execution_count": 20,
   "id": "4f0524bd",
   "metadata": {},
   "outputs": [
    {
     "name": "stdout",
     "output_type": "stream",
     "text": [
      "Hello Programming World!\n"
     ]
    }
   ],
   "source": [
    "print(\"Hello Programming World!\");\n",
    "\n",
    "#This is for displaying the output"
   ]
  },
  {
   "cell_type": "markdown",
   "id": "055ba37f",
   "metadata": {},
   "source": [
    "# Finding  the Data Type Used"
   ]
  },
  {
   "cell_type": "code",
   "execution_count": null,
   "id": "07891751",
   "metadata": {},
   "outputs": [
    {
     "data": {
      "text/plain": [
       "int"
      ]
     },
     "execution_count": 19,
     "metadata": {},
     "output_type": "execute_result"
    }
   ],
   "source": [
    "roll = int(input(\"enter a name\")) # This will convert the input to an integer\n",
    "type(roll) # This will give the type of the variable roll"
   ]
  },
  {
   "cell_type": "code",
   "execution_count": 16,
   "id": "0762a0f9",
   "metadata": {},
   "outputs": [
    {
     "data": {
      "text/plain": [
       "float"
      ]
     },
     "execution_count": 16,
     "metadata": {},
     "output_type": "execute_result"
    }
   ],
   "source": [
    "roll = 12\n",
    "type(roll)\n",
    "\n",
    "data1 = \"Hello\"\n",
    "type(data1)\n",
    "\n",
    "data2 = 0.0\n",
    "type(data2)"
   ]
  },
  {
   "cell_type": "markdown",
   "id": "812df5f5",
   "metadata": {},
   "source": [
    "# Loops\n"
   ]
  },
  {
   "cell_type": "markdown",
   "id": "1c71875b",
   "metadata": {},
   "source": [
    "## For Loop\n"
   ]
  },
  {
   "cell_type": "code",
   "execution_count": 23,
   "id": "e6d8de15",
   "metadata": {},
   "outputs": [
    {
     "name": "stdout",
     "output_type": "stream",
     "text": [
      "Hello Moto!\n",
      "Hello Moto!\n",
      "Hello Moto!\n",
      "Hello Moto!\n",
      "Hello Moto!\n",
      "Hello Moto!\n",
      "Hello Moto!\n",
      "Hello Moto!\n",
      "Hello Moto!\n",
      "Hello Moto!\n"
     ]
    }
   ],
   "source": [
    "# Loops\n",
    "for i in range(10):\n",
    "    print(\"Hello Moto!\")"
   ]
  },
  {
   "cell_type": "code",
   "execution_count": 29,
   "id": "01913f4d",
   "metadata": {},
   "outputs": [
    {
     "name": "stdout",
     "output_type": "stream",
     "text": [
      "5\n",
      "4\n",
      "3\n",
      "2\n",
      "1\n"
     ]
    }
   ],
   "source": [
    "# Loops\n",
    "for i in range(5, 0, -1):  # This will create a range from 5 to 2 (exclusive of 1)\n",
    "    print(i) # This will not print anything because the range is invalid"
   ]
  },
  {
   "cell_type": "code",
   "execution_count": 30,
   "id": "feaef072",
   "metadata": {},
   "outputs": [
    {
     "name": "stdout",
     "output_type": "stream",
     "text": [
      "10\n",
      "8\n",
      "6\n",
      "4\n",
      "2\n"
     ]
    }
   ],
   "source": [
    "for i in range(10, 0, -2):  # This will create a range from 10 to 2 (exclusive of 2) with a step of -2\n",
    "    print(i) # This will print 10, 8, 6, 4"
   ]
  },
  {
   "cell_type": "markdown",
   "id": "28ce84a6",
   "metadata": {},
   "source": [
    "## While Loop"
   ]
  },
  {
   "cell_type": "markdown",
   "id": "78ee2b4e",
   "metadata": {},
   "source": [
    "# Printing numbers from 1 to N\n"
   ]
  },
  {
   "cell_type": "code",
   "execution_count": null,
   "id": "4c8ee08e",
   "metadata": {},
   "outputs": [],
   "source": [
    "n = int(input(\"enter the number:\"))\n",
    "print(n)"
   ]
  },
  {
   "cell_type": "code",
   "execution_count": 36,
   "id": "3b94eb87",
   "metadata": {},
   "outputs": [
    {
     "name": "stdout",
     "output_type": "stream",
     "text": [
      "1\n",
      "2\n",
      "3\n",
      "4\n",
      "5\n",
      "6\n",
      "7\n"
     ]
    }
   ],
   "source": [
    "n = 1 # This is the starting point of the loop\n",
    "while( n<=6):  # This is the condition for the loop to run\n",
    "    print(n) # This will print the value of n\n",
    "    n=n + 1 # This will increment the value of n by 1\n",
    "print(n) # This will print when the loop ends"
   ]
  },
  {
   "cell_type": "markdown",
   "id": "8b1cc060",
   "metadata": {},
   "source": [
    "# Lists"
   ]
  },
  {
   "cell_type": "code",
   "execution_count": 25,
   "id": "79f37ef0",
   "metadata": {},
   "outputs": [
    {
     "name": "stdout",
     "output_type": "stream",
     "text": [
      "2\n",
      "3\n",
      "4\n",
      "5\n",
      "6\n",
      "7\n",
      "8\n",
      "9\n",
      "10\n"
     ]
    }
   ],
   "source": [
    "roll = [2,3,4,5,6,7,8,9,10]  #This is a list\n",
    "for i in roll: \n",
    "    print(i)"
   ]
  },
  {
   "cell_type": "code",
   "execution_count": null,
   "id": "5f305485",
   "metadata": {},
   "outputs": [],
   "source": []
  },
  {
   "cell_type": "markdown",
   "id": "afc2e1a8",
   "metadata": {},
   "source": [
    "# List of Questions for Looping Statements\n"
   ]
  },
  {
   "cell_type": "code",
   "execution_count": null,
   "id": "153bbace",
   "metadata": {},
   "outputs": [],
   "source": [
    "# Wap to print the number from 1 to n"
   ]
  },
  {
   "cell_type": "code",
   "execution_count": 1,
   "id": "bf67d5a3",
   "metadata": {},
   "outputs": [
    {
     "name": "stdout",
     "output_type": "stream",
     "text": [
      "1\n",
      "2\n",
      "3\n",
      "4\n",
      "5\n",
      "6\n"
     ]
    }
   ],
   "source": [
    "n= int(input(\"Enter the number:\"));\n",
    "for i in range(1, n+1): #This will create a range from 1 to n (inclusive)\n",
    "    print(i) #This will print the value of i from 1 to n\n",
    "    "
   ]
  },
  {
   "cell_type": "code",
   "execution_count": null,
   "id": "edbfb4ac",
   "metadata": {},
   "outputs": [],
   "source": [
    "# Wap tp print the sum of the number from 1 to n"
   ]
  },
  {
   "cell_type": "code",
   "execution_count": null,
   "id": "9cf44f4a",
   "metadata": {},
   "outputs": [
    {
     "name": "stdout",
     "output_type": "stream",
     "text": [
      "1\n",
      "3\n",
      "6\n",
      "10\n"
     ]
    }
   ],
   "source": [
    "n = int(input(\"Enter the value of n:\"))\n",
    "sum = 0 # This is the starting point of the sum\n",
    "for i in range(1,n+1):\n",
    "    sum = sum + i # This will add the value of i to the sum\n",
    "    print(sum) # This will print the value of sum after each iteration\n"
   ]
  },
  {
   "cell_type": "code",
   "execution_count": null,
   "id": "47b1ed16",
   "metadata": {},
   "outputs": [],
   "source": [
    "# WAP to print the product of the number from 1 to n\n"
   ]
  },
  {
   "cell_type": "code",
   "execution_count": 5,
   "id": "3d5a3d09",
   "metadata": {},
   "outputs": [
    {
     "name": "stdout",
     "output_type": "stream",
     "text": [
      "1\n",
      "2\n",
      "6\n"
     ]
    }
   ],
   "source": [
    "n = int(input(\"Enter the value of n:\"))\n",
    "i= 1 # This is the starting point of the loop\n",
    "product = 1 # This is the starting point of the product\n",
    "for i in range(1,n+1):\n",
    "    product = product * i # This will multiply the value of i to the product\n",
    "    print(product) # This will print the value of product after each iteration\n",
    "\n"
   ]
  },
  {
   "cell_type": "code",
   "execution_count": 9,
   "id": "acba2154",
   "metadata": {},
   "outputs": [],
   "source": [
    "# Wap to  print the multiple of 5 \n"
   ]
  },
  {
   "cell_type": "code",
   "execution_count": 10,
   "id": "f7c698f6",
   "metadata": {},
   "outputs": [
    {
     "name": "stdout",
     "output_type": "stream",
     "text": [
      "5\n",
      "10\n",
      "15\n",
      "20\n",
      "25\n",
      "30\n",
      "35\n",
      "40\n",
      "45\n",
      "50\n"
     ]
    }
   ],
   "source": [
    "n = int(input(\"Enter the avalue of n:\"))\n",
    "result = 1 \n",
    "for i in range(1,11):\n",
    "    result= n*i\n",
    "    print(result)\n",
    "     # This will print the value of n after each iteration\n"
   ]
  },
  {
   "cell_type": "code",
   "execution_count": 3,
   "id": "7128ae70",
   "metadata": {},
   "outputs": [
    {
     "name": "stdout",
     "output_type": "stream",
     "text": [
      "7 is the prime number\n"
     ]
    }
   ],
   "source": [
    "#   Wap to find whether the number is prime or not using for loop\n",
    "n = int(input(\"enter the number:\"))\n",
    "\n",
    "for i in range(2,n):\n",
    "    if(n%2 ==0 ):\n",
    "        print(n, \"The number is composite\")\n",
    "        break\n",
    "    if(i==n-1):\n",
    "        print(n, \"is the prime number\")\n"
   ]
  },
  {
   "cell_type": "code",
   "execution_count": null,
   "id": "48804946",
   "metadata": {},
   "outputs": [],
   "source": [
    "n= int(input(\"Enter the number:\"))      \n"
   ]
  },
  {
   "cell_type": "markdown",
   "id": "224dae29",
   "metadata": {},
   "source": [
    "### Use case of Break : It skips the iteration completely once the condition is meet\n"
   ]
  },
  {
   "cell_type": "code",
   "execution_count": 16,
   "id": "7fbcc72f",
   "metadata": {},
   "outputs": [
    {
     "name": "stdout",
     "output_type": "stream",
     "text": [
      "1\n",
      "2\n",
      "3\n",
      "4\n"
     ]
    }
   ],
   "source": [
    "# Program to implement the use of break\n",
    "apple = [1,2,3,4,5,6]\n",
    "for i in apple:\n",
    "    if i== 5:\n",
    "        break\n",
    "    else: \n",
    "        print(i)"
   ]
  },
  {
   "cell_type": "markdown",
   "id": "23eb03b5",
   "metadata": {},
   "source": [
    "### Use case of Continue: It skips the iteration the one when it is in \n"
   ]
  },
  {
   "cell_type": "code",
   "execution_count": 17,
   "id": "d90390ac",
   "metadata": {},
   "outputs": [
    {
     "name": "stdout",
     "output_type": "stream",
     "text": [
      "1\n",
      "2\n",
      "3\n",
      "4\n",
      "6\n",
      "7\n"
     ]
    }
   ],
   "source": [
    "roll = [1,2,3,4,5,6,7]\n",
    "for i in roll:\n",
    "    if i== 5:\n",
    "        continue  \n",
    "    else:\n",
    "        print(i)\n",
    "    "
   ]
  },
  {
   "cell_type": "markdown",
   "id": "0449d117",
   "metadata": {},
   "source": [
    "#### Displaying not prime number and prime number"
   ]
  },
  {
   "cell_type": "code",
   "execution_count": null,
   "id": "7a23ffde",
   "metadata": {},
   "outputs": [
    {
     "name": "stdout",
     "output_type": "stream",
     "text": [
      "The number is prime\n"
     ]
    }
   ],
   "source": [
    "# WAP to show that the number is not prime\n",
    "n = int"
   ]
  },
  {
   "cell_type": "code",
   "execution_count": 20,
   "id": "920e43d5",
   "metadata": {},
   "outputs": [
    {
     "name": "stdout",
     "output_type": "stream",
     "text": [
      "8 The number is not prime\n"
     ]
    }
   ],
   "source": [
    "#WA to find whether the number is prime or not prume using else in for \n",
    "n = int(input(\"Enter the number:\"))\n",
    "\n",
    "for i in range(2,n):\n",
    "    if(n%i == 0):\n",
    "        print(n, \"The number is not prime\")\n",
    "        break\n",
    "else:\n",
    "    print(n,\"The number is prime\")"
   ]
  },
  {
   "cell_type": "markdown",
   "id": "44572be3",
   "metadata": {},
   "source": [
    "#### Calculating the sum of the digits of the numbers\n"
   ]
  },
  {
   "cell_type": "code",
   "execution_count": 6,
   "id": "da2f4225",
   "metadata": {},
   "outputs": [
    {
     "name": "stdout",
     "output_type": "stream",
     "text": [
      "the sum of the digits is: 18\n"
     ]
    }
   ],
   "source": [
    "# WAP to find the sum of of the digits of a number\n",
    "n = int(input(\"Enter the number:\"))\n",
    "sum = 0         \n",
    "while n > 0:\n",
    "    digit = n % 10  # Get the last digit\n",
    "    sum += digit    # Add the digit to the sum\n",
    "    n //= 10        # Remove the last digit from n\n",
    "print(\"the sum of the digits is:\", sum) # Print the final sum"
   ]
  },
  {
   "cell_type": "markdown",
   "id": "708daf9d",
   "metadata": {},
   "source": [
    "### Calculating the sum of the digits fo the numbers using list"
   ]
  },
  {
   "cell_type": "code",
   "execution_count": 21,
   "id": "e4e0e792",
   "metadata": {},
   "outputs": [
    {
     "name": "stdout",
     "output_type": "stream",
     "text": [
      "The sum of the digits is: 9\n"
     ]
    }
   ],
   "source": [
    "#WAP to find sum using list\n",
    "n = list(input(\"Enter the numbers\"))\n",
    "sum = 0\n",
    "for i in n:\n",
    "    sum +=int(i) # Convert each character to an integer and add it to the sum\n",
    "print(\"The sum of the digits is:\", sum) # Print the final sum"
   ]
  },
  {
   "cell_type": "markdown",
   "id": "6b1ae7a3",
   "metadata": {},
   "source": [
    "### Use of Pass in Loop"
   ]
  },
  {
   "cell_type": "code",
   "execution_count": 7,
   "id": "b14c7f1d",
   "metadata": {},
   "outputs": [
    {
     "name": "stdout",
     "output_type": "stream",
     "text": [
      "1\n",
      "2\n",
      "3\n",
      "4\n",
      "5\n",
      "6\n",
      "7\n",
      "8\n",
      "9\n"
     ]
    }
   ],
   "source": [
    "#Wap to show the use of pass in loop\n",
    "x = [1,2,3,4,5,6,7,8,9]\n",
    "for i in x:\n",
    "    if(i == 5):\n",
    "        pass\n",
    "    print(i)"
   ]
  },
  {
   "cell_type": "code",
   "execution_count": null,
   "id": "3d766396",
   "metadata": {},
   "outputs": [],
   "source": []
  },
  {
   "cell_type": "markdown",
   "id": "a3bb76d6",
   "metadata": {},
   "source": [
    "### Use of else in for-- This does allow the else condition to work when there is  break or continue statements."
   ]
  },
  {
   "cell_type": "code",
   "execution_count": null,
   "id": "9d6614c8",
   "metadata": {},
   "outputs": [
    {
     "name": "stdout",
     "output_type": "stream",
     "text": [
      "1\n",
      "2\n",
      "3\n",
      "4\n",
      "5\n",
      "6\n",
      "7\n",
      "8\n",
      "9\n",
      "This is the end of the loop\n"
     ]
    }
   ],
   "source": [
    "#WAP to show the use of else in for-- This does allow the else condition to work when there is no  break or continue statements.\n",
    "for i in range(1,10):\n",
    "    print(i)\n",
    "else:\n",
    "    print(\"This is the end of the loop\")"
   ]
  },
  {
   "cell_type": "code",
   "execution_count": 12,
   "id": "e84a5cf1",
   "metadata": {},
   "outputs": [
    {
     "name": "stdout",
     "output_type": "stream",
     "text": [
      "1\n",
      "2\n",
      "3\n",
      "4\n"
     ]
    }
   ],
   "source": [
    "#Wap to show the use of else in for-- This does allow the else condition to work when there is  break or continue statements.\n",
    "for i in range(1,10):\n",
    "    if(i==5):\n",
    "        break\n",
    "    print(i)\n",
    "else:\n",
    "    print(\"The loop has ended\")"
   ]
  },
  {
   "cell_type": "code",
   "execution_count": 15,
   "id": "a951f11d",
   "metadata": {},
   "outputs": [
    {
     "name": "stdout",
     "output_type": "stream",
     "text": [
      "4 i is not present in the list\n"
     ]
    }
   ],
   "source": [
    "#WAP to show how the numbers are present or absent\n",
    "\n",
    "x= [1,2,3,4]\n",
    "for i in x:\n",
    "    if 5 in x:\n",
    "        print(i, \"is present in the list\")\n",
    "        break\n",
    "else:\n",
    "     print(i, \"i is not present in the list\")"
   ]
  },
  {
   "cell_type": "markdown",
   "id": "5d976ba1",
   "metadata": {},
   "source": [
    "## Data Structures\n"
   ]
  },
  {
   "cell_type": "markdown",
   "id": "52cba046",
   "metadata": {},
   "source": [
    "#### Know about which is list and set or dictionary"
   ]
  },
  {
   "cell_type": "code",
   "execution_count": null,
   "id": "5dccd9a4",
   "metadata": {},
   "outputs": [
    {
     "data": {
      "text/plain": [
       "int"
      ]
     },
     "execution_count": 6,
     "metadata": {},
     "output_type": "execute_result"
    }
   ],
   "source": [
    "#List is denoted by [] and list()\n",
    "#Dictionary is denoted by {}\n"
   ]
  },
  {
   "cell_type": "markdown",
   "id": "d2672202",
   "metadata": {},
   "source": [
    "### List: Denoted by [] and list()\n"
   ]
  },
  {
   "cell_type": "markdown",
   "id": "a082afbe",
   "metadata": {},
   "source": [
    "### Indexing in List\n"
   ]
  },
  {
   "cell_type": "code",
   "execution_count": 7,
   "id": "a20d3b9b",
   "metadata": {},
   "outputs": [
    {
     "data": {
      "text/plain": [
       "4"
      ]
     },
     "execution_count": 7,
     "metadata": {},
     "output_type": "execute_result"
    }
   ],
   "source": [
    "# Wap to show the index of the things in list\n",
    "id = [1,2,3,4]\n",
    "id[3]"
   ]
  },
  {
   "cell_type": "code",
   "execution_count": 10,
   "id": "0941cdc7",
   "metadata": {},
   "outputs": [
    {
     "name": "stdout",
     "output_type": "stream",
     "text": [
      "[1, 2, 3, 5]\n"
     ]
    }
   ],
   "source": [
    "#Wap to update the value of things in list\n",
    "id = [1,2,3,4]\n",
    "id[3] = 5\n",
    "print(id)"
   ]
  },
  {
   "cell_type": "markdown",
   "id": "848dfc33",
   "metadata": {},
   "source": [
    "# Practice the functions related with the list \n",
    "# Day 3 Is Completed"
   ]
  },
  {
   "cell_type": "markdown",
   "id": "020960ca",
   "metadata": {},
   "source": [
    "# Day 4 Starts"
   ]
  },
  {
   "cell_type": "markdown",
   "id": "3d1d08e1",
   "metadata": {},
   "source": [
    "## List"
   ]
  },
  {
   "cell_type": "markdown",
   "id": "4e89fe47",
   "metadata": {},
   "source": [
    "#### SLicing\n",
    "####Syntax:  x= [] x[Start, No. of elements to be taken]"
   ]
  },
  {
   "cell_type": "code",
   "execution_count": 4,
   "id": "be676ba0",
   "metadata": {},
   "outputs": [
    {
     "data": {
      "text/plain": [
       "['Hari', 3]"
      ]
     },
     "execution_count": 4,
     "metadata": {},
     "output_type": "execute_result"
    }
   ],
   "source": [
    "x= [\"Hari\", \"Shyam\", 3]\n",
    "  #The below technique defines start, no. of elements to be taken and the way the elements are taken\n",
    "x[0:3:2]"
   ]
  },
  {
   "cell_type": "code",
   "execution_count": 1,
   "id": "56e0ecab",
   "metadata": {},
   "outputs": [
    {
     "data": {
      "text/plain": [
       "[1, 2, 3]"
      ]
     },
     "execution_count": 1,
     "metadata": {},
     "output_type": "execute_result"
    }
   ],
   "source": [
    "x = [1,2,3,4]\n",
    "\n",
    "x[0:3]"
   ]
  },
  {
   "cell_type": "code",
   "execution_count": 2,
   "id": "aa226951",
   "metadata": {},
   "outputs": [
    {
     "data": {
      "text/plain": [
       "['Rabbit', 'Jiru', 'Mahakal', 'Dandelion']"
      ]
     },
     "execution_count": 2,
     "metadata": {},
     "output_type": "execute_result"
    }
   ],
   "source": [
    "x = [\"Rabbit\", \"Jiru\", \"Mahakal\", \"Dandelion\"]\n",
    "\n",
    "x[0:4]"
   ]
  },
  {
   "cell_type": "markdown",
   "id": "8af9fd30",
   "metadata": {},
   "source": [
    "### Adding Elements in the list"
   ]
  },
  {
   "cell_type": "code",
   "execution_count": null,
   "id": "3c7e5c2e",
   "metadata": {},
   "outputs": [
    {
     "data": {
      "text/plain": [
       "[10, 20]"
      ]
     },
     "execution_count": 9,
     "metadata": {},
     "output_type": "execute_result"
    }
   ],
   "source": [
    "### Using Append ###Append helps to add the elements to the end of the list\n",
    "x = [10]\n",
    "x.append(20)\n",
    "x"
   ]
  },
  {
   "cell_type": "code",
   "execution_count": 12,
   "id": "3a68bf09",
   "metadata": {},
   "outputs": [
    {
     "data": {
      "text/plain": [
       "[10, 'Rabbit']"
      ]
     },
     "execution_count": 12,
     "metadata": {},
     "output_type": "execute_result"
    }
   ],
   "source": [
    "### Using Extend    ###Extend helps to add the elemnts of one of the list to the other\n",
    "x = [10]\n",
    "y = ['Rabbit']\n",
    "x.extend(y)\n",
    "x"
   ]
  },
  {
   "cell_type": "code",
   "execution_count": 14,
   "id": "7381f5fc",
   "metadata": {},
   "outputs": [
    {
     "data": {
      "text/plain": [
       "[10, 'Jiru']"
      ]
     },
     "execution_count": 14,
     "metadata": {},
     "output_type": "execute_result"
    }
   ],
   "source": [
    "### Using Concatenation ###It concatenate two strings using + sign\n",
    "x = [10]\n",
    "y = [\"Jiru\"]\n",
    "x = x+y\n",
    "x"
   ]
  },
  {
   "cell_type": "code",
   "execution_count": null,
   "id": "c24636cc",
   "metadata": {},
   "outputs": [
    {
     "data": {
      "text/plain": [
       "[10, 12, 'Rabbit', 'Jiru']"
      ]
     },
     "execution_count": 16,
     "metadata": {},
     "output_type": "execute_result"
    }
   ],
   "source": [
    "### Using insert   ###It helps to insert the elements in the list in specific or desired location that we want\n",
    "x = [10, 12, \"Rabbit\"]\n",
    "x.insert(3, \"Jiru\")\n",
    "x\n",
    "\n"
   ]
  },
  {
   "cell_type": "markdown",
   "id": "7f1bfad0",
   "metadata": {},
   "source": [
    "### Removing Elements from the list"
   ]
  },
  {
   "cell_type": "code",
   "execution_count": 28,
   "id": "390e9d75",
   "metadata": {},
   "outputs": [
    {
     "data": {
      "text/plain": [
       "[1]"
      ]
     },
     "execution_count": 28,
     "metadata": {},
     "output_type": "execute_result"
    }
   ],
   "source": [
    "###Using remove()   #This removes the specific elements from the list first occurence\n",
    "x = [1,\"Rabbit\"]\n",
    "x.remove(\"Rabbit\")\n",
    "x"
   ]
  },
  {
   "cell_type": "code",
   "execution_count": 23,
   "id": "e3bb6fe7",
   "metadata": {},
   "outputs": [
    {
     "data": {
      "text/plain": [
       "[2, 23, 4, 5, 6]"
      ]
     },
     "execution_count": 23,
     "metadata": {},
     "output_type": "execute_result"
    }
   ],
   "source": [
    "### Using pop()   #This pops out the specific elements from the list by utilizing its position\n",
    "x = [1,2,23,4,5,6]\n",
    "x.pop(0)\n",
    "x"
   ]
  },
  {
   "cell_type": "code",
   "execution_count": 24,
   "id": "7f46325c",
   "metadata": {},
   "outputs": [
    {
     "data": {
      "text/plain": [
       "[]"
      ]
     },
     "execution_count": 24,
     "metadata": {},
     "output_type": "execute_result"
    }
   ],
   "source": [
    "### Using clear()    #THis completely removes the elements from the list\n",
    "x = [1,2,34,5]\n",
    "x.clear()\n",
    "x"
   ]
  },
  {
   "cell_type": "code",
   "execution_count": 25,
   "id": "0bb980bb",
   "metadata": {},
   "outputs": [
    {
     "data": {
      "text/plain": [
       "[1, 2, 3]"
      ]
     },
     "execution_count": 25,
     "metadata": {},
     "output_type": "execute_result"
    }
   ],
   "source": [
    "### Using pop(i)   #This removes the i elements\n",
    "x = [1,2,3,4]\n",
    "x.pop(3)\n",
    "x"
   ]
  },
  {
   "cell_type": "code",
   "execution_count": 29,
   "id": "b3925f18",
   "metadata": {},
   "outputs": [
    {
     "data": {
      "text/plain": [
       "[1, 2, 3]"
      ]
     },
     "execution_count": 29,
     "metadata": {},
     "output_type": "execute_result"
    }
   ],
   "source": [
    "#### Using pop()  #This removes elements last of the list\n",
    "x = [1,2,3,5]\n",
    "x.pop()\n",
    "x"
   ]
  },
  {
   "cell_type": "markdown",
   "id": "a47c2b98",
   "metadata": {},
   "source": [
    "### Other Functions "
   ]
  },
  {
   "cell_type": "code",
   "execution_count": 30,
   "id": "85676025",
   "metadata": {},
   "outputs": [
    {
     "data": {
      "text/plain": [
       "[4, 3, 2, 1]"
      ]
     },
     "execution_count": 30,
     "metadata": {},
     "output_type": "execute_result"
    }
   ],
   "source": [
    "###Using reverse to compute the reverse of the number\n",
    "x = [1,2,3,4]\n",
    "x.reverse()\n",
    "x"
   ]
  },
  {
   "cell_type": "code",
   "execution_count": 31,
   "id": "94f31479",
   "metadata": {},
   "outputs": [
    {
     "data": {
      "text/plain": [
       "[1, 2, 3, 4]"
      ]
     },
     "execution_count": 31,
     "metadata": {},
     "output_type": "execute_result"
    }
   ],
   "source": [
    "### Using the sort to comptue sorted order\n",
    "x = [1,2,3,4]\n",
    "x.sort()\n",
    "x"
   ]
  },
  {
   "cell_type": "code",
   "execution_count": 32,
   "id": "4cd0f69b",
   "metadata": {},
   "outputs": [
    {
     "data": {
      "text/plain": [
       "[4, 3, 2, 1]"
      ]
     },
     "execution_count": 32,
     "metadata": {},
     "output_type": "execute_result"
    }
   ],
   "source": [
    "### Using the sort to compute reverse order\n",
    "x = [ 1,2,3,4 ]\n",
    "x.sort(reverse=True)\n",
    "x"
   ]
  },
  {
   "cell_type": "code",
   "execution_count": 39,
   "id": "49e69afd",
   "metadata": {},
   "outputs": [
    {
     "data": {
      "text/plain": [
       "2"
      ]
     },
     "execution_count": 39,
     "metadata": {},
     "output_type": "execute_result"
    }
   ],
   "source": [
    "### Using count to calculate the number of times that number \n",
    "x = [1,2,3,4,5,6,5]\n",
    "x.count(5)"
   ]
  },
  {
   "cell_type": "markdown",
   "id": "69048a31",
   "metadata": {},
   "source": [
    "### Built-In Functions\n"
   ]
  },
  {
   "cell_type": "code",
   "execution_count": 35,
   "id": "50814975",
   "metadata": {},
   "outputs": [
    {
     "name": "stdout",
     "output_type": "stream",
     "text": [
      "5\n",
      "1\n",
      "15\n",
      "[1, 2, 3, 4, 5]\n",
      "5\n"
     ]
    }
   ],
   "source": [
    "### Using max and min \n",
    "x = [1,2,3,4,5]\n",
    "print(max(x))\n",
    "print(min(x))\n",
    "print(sum(x))\n",
    "print(sorted(x))\n",
    "print(len(x))"
   ]
  },
  {
   "cell_type": "markdown",
   "id": "edb8f635",
   "metadata": {},
   "source": [
    "## Tuple"
   ]
  },
  {
   "cell_type": "code",
   "execution_count": 40,
   "id": "fd001a17",
   "metadata": {},
   "outputs": [
    {
     "data": {
      "text/plain": [
       "(0, 1, 2, 3)"
      ]
     },
     "execution_count": 40,
     "metadata": {},
     "output_type": "execute_result"
    }
   ],
   "source": [
    "### Defining the tuple\n",
    "x = (0,1,2,3)\n",
    "x"
   ]
  },
  {
   "cell_type": "code",
   "execution_count": 44,
   "id": "0ed7c5bf",
   "metadata": {},
   "outputs": [
    {
     "data": {
      "text/plain": [
       "1"
      ]
     },
     "execution_count": 44,
     "metadata": {},
     "output_type": "execute_result"
    }
   ],
   "source": [
    "### Indexing the tuple\n",
    "x= (0,1,2,3)\n",
    "x[1]\n"
   ]
  },
  {
   "cell_type": "code",
   "execution_count": 51,
   "id": "cd7e1885",
   "metadata": {},
   "outputs": [
    {
     "data": {
      "text/plain": [
       "(0, 1, 2, 3)"
      ]
     },
     "execution_count": 51,
     "metadata": {},
     "output_type": "execute_result"
    }
   ],
   "source": [
    "### Indexing the tuple giving some positions\n",
    "x = (0,1,2,3,4,5)\n",
    "x[0:4]"
   ]
  },
  {
   "cell_type": "code",
   "execution_count": 53,
   "id": "2472926f",
   "metadata": {},
   "outputs": [
    {
     "name": "stdout",
     "output_type": "stream",
     "text": [
      "(1, 2, 3, 4, 2, 3, 4, 5)\n"
     ]
    }
   ],
   "source": [
    "### Concatenating the two tuples\n",
    "x = (1,2,3,4)\n",
    "y = (2,3,4,5)\n",
    "z= x+y\n",
    "print(z)"
   ]
  },
  {
   "cell_type": "code",
   "execution_count": 54,
   "id": "2dc952ab",
   "metadata": {},
   "outputs": [
    {
     "name": "stdout",
     "output_type": "stream",
     "text": [
      "5\n",
      "6\n"
     ]
    }
   ],
   "source": [
    "### Multiple Assignments\n",
    "(x,y) = (5,6)\n",
    "\n",
    "print(x)\n",
    "print(y)"
   ]
  },
  {
   "cell_type": "code",
   "execution_count": 55,
   "id": "fb6cdc1d",
   "metadata": {},
   "outputs": [
    {
     "data": {
      "text/plain": [
       "(1, 2, 3, 4, 1, 2, 3, 4, 1, 2, 3, 4)"
      ]
     },
     "execution_count": 55,
     "metadata": {},
     "output_type": "execute_result"
    }
   ],
   "source": [
    "### Repeating the tuple data values\n",
    "x = (1,2,3,4)\n",
    "x= x*3\n",
    "x"
   ]
  },
  {
   "cell_type": "code",
   "execution_count": 56,
   "id": "360d6489",
   "metadata": {},
   "outputs": [
    {
     "name": "stdout",
     "output_type": "stream",
     "text": [
      "6\n"
     ]
    }
   ],
   "source": [
    "###Unpacking the tuple\n",
    "(6,7,8)\n",
    "(x,y,z) = (6,7,8)\n",
    "print(x)"
   ]
  },
  {
   "cell_type": "code",
   "execution_count": 61,
   "id": "5f3413e3",
   "metadata": {},
   "outputs": [
    {
     "name": "stdout",
     "output_type": "stream",
     "text": [
      "True\n",
      "True\n",
      "False\n"
     ]
    }
   ],
   "source": [
    "### Checking Membership\n",
    "tuple_value = (6,7,\"Rabbit\")\n",
    "print(6 in tuple_value)\n",
    "\n",
    "print(\"Rabbit\" in tuple_value)\n",
    "\n",
    "print(\"Jiru\" in tuple_value)\n"
   ]
  },
  {
   "cell_type": "code",
   "execution_count": 63,
   "id": "323ffd71",
   "metadata": {},
   "outputs": [
    {
     "name": "stdout",
     "output_type": "stream",
     "text": [
      "1\n"
     ]
    }
   ],
   "source": [
    "### Tuple Methods\n",
    "\n",
    "### Count Methods Used\n",
    "tuple_value = (\"Rabbit\", \"Mahakal\" , \"Dangdelions\")\n",
    "\n",
    "print(tuple_value.count(\"Rabbit\"))"
   ]
  },
  {
   "cell_type": "code",
   "execution_count": null,
   "id": "61922364",
   "metadata": {},
   "outputs": [],
   "source": [
    "### Index Methods Used\n"
   ]
  }
 ],
 "metadata": {
  "kernelspec": {
   "display_name": "Python 3",
   "language": "python",
   "name": "python3"
  },
  "language_info": {
   "codemirror_mode": {
    "name": "ipython",
    "version": 3
   },
   "file_extension": ".py",
   "mimetype": "text/x-python",
   "name": "python",
   "nbconvert_exporter": "python",
   "pygments_lexer": "ipython3",
   "version": "3.13.4"
  }
 },
 "nbformat": 4,
 "nbformat_minor": 5
}
