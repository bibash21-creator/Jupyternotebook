{
 "cells": [
  {
   "cell_type": "markdown",
   "id": "9683dd9c",
   "metadata": {},
   "source": [
    "# Missed Days on Programming"
   ]
  },
  {
   "cell_type": "code",
   "execution_count": 2,
   "id": "e82c72f1",
   "metadata": {},
   "outputs": [
    {
     "name": "stdout",
     "output_type": "stream",
     "text": [
      "The simple interest is: 260.0\n"
     ]
    }
   ],
   "source": [
    "### Simple Interest Using Arguments and no return values\n",
    "###Function defintion\n",
    "def interest(p,t,r):\n",
    "    SI = (p*t*r)/100;\n",
    "    print(\"The simple interest is:\", SI);\n",
    "\n",
    "p = int(input(\"Enter your principle amount\"));\n",
    "t = int(input(\"Enter the time period upto which interest is applied\"));\n",
    "r = int(input(\"Enter the rate of interest\"));\n",
    "\n",
    "interest(p,t,r); #Function calling"
   ]
  },
  {
   "cell_type": "code",
   "execution_count": null,
   "id": "1f57785a",
   "metadata": {},
   "outputs": [
    {
     "name": "stdout",
     "output_type": "stream",
     "text": [
      "The simple interest is: 1200.0\n"
     ]
    }
   ],
   "source": [
    "### Simple Interest using Arguments and  no Return values but just the print\n",
    "def simple_interest(p,t,r):\n",
    "    SI = (p*t*r)/100;\n",
    "    print(\"The simple interest amount is:\", SI);\n",
    "\n",
    "p = int(input(\"Enter the principle amount:\"));\n",
    "t = int(input(\"Enter the time period for which the interest gets applied\"));\n",
    "r = int(input(\"enter the time period\"));\n",
    "\n",
    "interest = interest(p,t,r);\n"
   ]
  },
  {
   "cell_type": "code",
   "execution_count": 32,
   "id": "fdcff7dc",
   "metadata": {},
   "outputs": [],
   "source": [
    "### WAP to create functions that takes a lists of numbers and returns the sum\n",
    "def sumthisup(price):\n",
    "    total = sum(price);\n",
    "    print(total);\n",
    "\n",
    "\n",
    "price = [100,30,20,500];\n",
    "\n",
    "\n",
    "\n",
    "\n",
    "\n"
   ]
  },
  {
   "cell_type": "markdown",
   "id": "04bfa19c",
   "metadata": {},
   "source": [
    "### Optional Parameter"
   ]
  },
  {
   "cell_type": "code",
   "execution_count": 10,
   "id": "a66045bd",
   "metadata": {},
   "outputs": [
    {
     "name": "stdout",
     "output_type": "stream",
     "text": [
      "The area of the rectangle is: 20\n"
     ]
    }
   ],
   "source": [
    "#Optional Parameter\n",
    "\n",
    "def rectangle(l= 10, b=2):\n",
    "     area = l*b;\n",
    "     return area;\n",
    "#len = 10;\n",
    "#bread = 20;\n",
    "area = rectangle();\n",
    "print(\"The area of the rectangle is:\", area );\n"
   ]
  },
  {
   "cell_type": "markdown",
   "id": "f9a291e4",
   "metadata": {},
   "source": [
    "#### Important Questions\n"
   ]
  },
  {
   "cell_type": "code",
   "execution_count": null,
   "id": "770b5ae0",
   "metadata": {},
   "outputs": [],
   "source": [
    "### Important Question Programs for optional parameter\n",
    "\n",
    "Easy\n",
    "1. Write a function greet(name: str = \"Guest\") that prints \"Hello, {name}!\" with a default value.\n",
    "\n",
    "2. Create a function multiply(a: int, b: int = 1) that returns a * b, where b is optional.\n",
    "\n",
    "\n",
    "\n",
    "Medium\n",
    "1. Write a function create_list(item, default=None) that appends item to a list, but initializes a new list if default is None.\n",
    "\n",
    "2. Implement a function apply_discount(price: float, discount: float = 0.1) that returns the discounted price.\n",
    "\n",
    "3. Write a function format_date(day: int, month: int, year: int = 2023) that returns a date string in \"DD-MM-YYYY\" format.\n",
    "\n",
    "Hard\n",
    "1. Build a function cache(func, max_size: int = 128) that memoizes function results with an optional cache limit.\n",
    "\n",
    "2. Write a function partial_apply(func, *args, **kwargs) that fixes some arguments of a function using optional parameters.\n",
    "\n",
    "3. Create a decorator @retry(max_attempts: int = 3) that retries a failed function call up to max_attempts times.\n",
    "\n",
    "Very Hard\n",
    "1. Implement a Timer class where start() takes an optional label and stop() returns the elapsed time for that label.\n",
    "\n",
    "2. Write a function dynamic_args(*args, first_default=10, second_default=20) where optional params modify how *args are processed."
   ]
  },
  {
   "cell_type": "code",
   "execution_count": null,
   "id": "0be9ab6a",
   "metadata": {},
   "outputs": [
    {
     "ename": "TypeError",
     "evalue": "create_list() missing 1 required positional argument: 'item'",
     "output_type": "error",
     "traceback": [
      "\u001b[31m---------------------------------------------------------------------------\u001b[39m",
      "\u001b[31mTypeError\u001b[39m                                 Traceback (most recent call last)",
      "\u001b[36mCell\u001b[39m\u001b[36m \u001b[39m\u001b[32mIn[7]\u001b[39m\u001b[32m, line 6\u001b[39m\n\u001b[32m      4\u001b[39m     list1 = \u001b[38;5;28mlist\u001b[39m(item)\n\u001b[32m      5\u001b[39m     \u001b[38;5;28;01mreturn\u001b[39;00m list1\n\u001b[32m----> \u001b[39m\u001b[32m6\u001b[39m \u001b[43mcreate_list\u001b[49m\u001b[43m(\u001b[49m\u001b[43m)\u001b[49m;\n",
      "\u001b[31mTypeError\u001b[39m: create_list() missing 1 required positional argument: 'item'"
     ]
    }
   ],
   "source": [
    "### 1. Write a function create_list(item, default=None) that appends item to a list, \n",
    "# but initializes a new list if default is None.\n",
    "def create_list(item, default= None):\n",
    "    if default is None:\n",
    "        default =[];\n",
    "    default.append(item)\n"
   ]
  },
  {
   "cell_type": "code",
   "execution_count": 6,
   "id": "fdad5216",
   "metadata": {},
   "outputs": [
    {
     "name": "stdout",
     "output_type": "stream",
     "text": [
      "30\n"
     ]
    }
   ],
   "source": [
    "### 2. Create a function multiply(a: int, b: int = 1) that returns a * b, where b is optional and print the value\n",
    "def multiple(a, b=1):\n",
    "    return a*b\n",
    "\n",
    "print(multiple(5,6))"
   ]
  },
  {
   "cell_type": "code",
   "execution_count": 11,
   "id": "3c44b871",
   "metadata": {},
   "outputs": [
    {
     "name": "stdout",
     "output_type": "stream",
     "text": [
      "Hello,Bibash\n"
     ]
    }
   ],
   "source": [
    "### Print Hello, {name} with a default value using Python\n",
    "def greet(name: str= \"Bibash\"):\n",
    "        print(f\"Hello,{name}\")\n",
    "greet()\n"
   ]
  },
  {
   "cell_type": "markdown",
   "id": "0f100420",
   "metadata": {},
   "source": [
    "### Lambda Function"
   ]
  },
  {
   "cell_type": "code",
   "execution_count": null,
   "id": "4065065d",
   "metadata": {},
   "outputs": [
    {
     "name": "stdout",
     "output_type": "stream",
     "text": [
      "25\n"
     ]
    }
   ],
   "source": [
    "### Lambda Function  or Anonymous Function\n",
    "\n",
    "square = lambda n: n**2\n",
    "\n",
    "print(square(5));"
   ]
  },
  {
   "cell_type": "code",
   "execution_count": 17,
   "id": "78a618ed",
   "metadata": {},
   "outputs": [
    {
     "name": "stdout",
     "output_type": "stream",
     "text": [
      "30\n"
     ]
    }
   ],
   "source": [
    "### lambda function to compute the area of the rectangle\n",
    "\n",
    "area = lambda l,b: l*b;\n",
    "\n",
    "print(area(5,6));"
   ]
  },
  {
   "cell_type": "markdown",
   "id": "f504c772",
   "metadata": {},
   "source": [
    "### Nested Function"
   ]
  },
  {
   "cell_type": "code",
   "execution_count": 24,
   "id": "6d6be156",
   "metadata": {},
   "outputs": [
    {
     "name": "stdout",
     "output_type": "stream",
     "text": [
      "This is the parent function\n",
      "This is the child function\n"
     ]
    }
   ],
   "source": [
    "### Nested Function\n",
    "\n",
    "def parent():\n",
    "    print(\"This is the parent function\");\n",
    "\n",
    "    def child():\n",
    "        print(\"This is the child function\");\n",
    "    child();\n",
    "parent();"
   ]
  },
  {
   "cell_type": "code",
   "execution_count": 26,
   "id": "d7570825",
   "metadata": {},
   "outputs": [
    {
     "name": "stdout",
     "output_type": "stream",
     "text": [
      "this is the parent function\n",
      "this is the child1 function\n",
      "this is the child2 function\n"
     ]
    }
   ],
   "source": [
    "### Nested function second\n",
    "def parent():\n",
    "    print(\"this is the parent function\");\n",
    "    def child1():\n",
    "        print(\"this is the child1 function\");\n",
    "    def child2():\n",
    "        print(\"this is the child2 function\");\n",
    "\n",
    "    child1();\n",
    "    child2();\n",
    "parent();"
   ]
  },
  {
   "cell_type": "code",
   "execution_count": null,
   "id": "e861e44b",
   "metadata": {},
   "outputs": [],
   "source": [
    "### List of Nested Functions\n",
    "\n",
    "Easy\n",
    "1. Write a lambda function to double a number.\n",
    "\n",
    "2. Write a lambda function to check if a number is even.\n",
    "\n",
    "3. Write a lambda function to convert a string to uppercase.\n",
    "\n",
    "Medium\n",
    "1. Write a lambda function to sort a list of tuples by their second element.\n",
    "\n",
    "2. Write a lambda function to filter vowels out of a string.\n",
    "\n",
    "3. Write a lambda function to multiply two lists element-wise.\n",
    "\n",
    "4. Write a lambda function to count words longer than 3 characters in a string.\n",
    "\n",
    "Hard\n",
    "1. Write a lambda function to flatten a 2D list (without using itertools).\n",
    "\n",
    "2. Write a lambda function to compute the factorial of a number (one line).\n",
    "\n",
    "3. Write a lambda function to generate Fibonacci numbers up to n terms.\n",
    "\n",
    "Very Hard\n",
    "1. Write a lambda function to check if a string is a palindrome (ignore case/spaces).\n",
    "\n",
    "2. Write a lambda function to implement a simple calculator (add/subtract/multiply/divide).\n",
    "\n",
    "3. Write a lambda function to find prime numbers in a list.\n",
    "\n"
   ]
  },
  {
   "cell_type": "markdown",
   "id": "ddad042e",
   "metadata": {},
   "source": [
    "### Local Variable\n"
   ]
  },
  {
   "cell_type": "code",
   "execution_count": 27,
   "id": "317ab55a",
   "metadata": {},
   "outputs": [
    {
     "name": "stdout",
     "output_type": "stream",
     "text": [
      "5\n"
     ]
    }
   ],
   "source": [
    "# Use case of local variable\n",
    "\n",
    "def display():\n",
    "    x= 5;\n",
    "    print(x);\n",
    "display();"
   ]
  },
  {
   "cell_type": "markdown",
   "id": "20d3d3dd",
   "metadata": {},
   "source": [
    "### Global Variable"
   ]
  },
  {
   "cell_type": "code",
   "execution_count": 28,
   "id": "ea843e99",
   "metadata": {},
   "outputs": [
    {
     "name": "stdout",
     "output_type": "stream",
     "text": [
      "5\n"
     ]
    }
   ],
   "source": [
    "### Use case of Global Variable\n",
    "x= 10;\n",
    "def display():\n",
    "    global x;\n",
    "    x =5;\n",
    "display();\n",
    "print(x);"
   ]
  }
 ],
 "metadata": {
  "kernelspec": {
   "display_name": "Python 3",
   "language": "python",
   "name": "python3"
  },
  "language_info": {
   "codemirror_mode": {
    "name": "ipython",
    "version": 3
   },
   "file_extension": ".py",
   "mimetype": "text/x-python",
   "name": "python",
   "nbconvert_exporter": "python",
   "pygments_lexer": "ipython3",
   "version": "3.13.4"
  }
 },
 "nbformat": 4,
 "nbformat_minor": 5
}
