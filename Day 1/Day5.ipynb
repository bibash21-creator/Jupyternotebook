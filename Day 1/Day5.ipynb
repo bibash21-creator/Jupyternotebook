{
 "cells": [
  {
   "cell_type": "markdown",
   "id": "7f38c407",
   "metadata": {},
   "source": [
    "# Day 5 Begins\n"
   ]
  },
  {
   "cell_type": "markdown",
   "id": "fdfdf5a6",
   "metadata": {},
   "source": [
    "## Dictionary\n",
    "#### Definition: It is the collection of elements using key values as associative arrays"
   ]
  },
  {
   "cell_type": "markdown",
   "id": "87fd2cca",
   "metadata": {},
   "source": [
    "#### Defining the dictionary"
   ]
  },
  {
   "cell_type": "code",
   "execution_count": 13,
   "id": "59b3ded2",
   "metadata": {},
   "outputs": [
    {
     "name": "stdout",
     "output_type": "stream",
     "text": [
      "{'name': 'Rabbit', 'uid': 1012}\n",
      "{'name': 'Rabbit', 'game': 'PUBG'}\n"
     ]
    }
   ],
   "source": [
    "dic = {\n",
    "    \"name\": \"Rabbit\",\n",
    "    \"uid\": 1012\n",
    "}\n",
    "print(dic)\n",
    "#Defined inside the curly brackets\n",
    "\n",
    "\n",
    "dic1 = dict(name = \"Rabbit\", game= \"PUBG\")\n",
    "print(dic1)\n",
    "#Defined using teh dict keyword\n"
   ]
  },
  {
   "cell_type": "markdown",
   "id": "19160b57",
   "metadata": {},
   "source": [
    "#### Retriving the values of dictionary"
   ]
  },
  {
   "cell_type": "code",
   "execution_count": 29,
   "id": "233eafe9",
   "metadata": {},
   "outputs": [
    {
     "name": "stdout",
     "output_type": "stream",
     "text": [
      "{'name': 'Jiru', 'role': 'Fragger', 'location': 101}\n",
      "Fragger\n",
      "Jiru\n",
      "101\n",
      "dict_values(['Jiru', 'Fragger', 101])\n"
     ]
    }
   ],
   "source": [
    "dic = {\n",
    "    \"name\": \"Jiru\",\n",
    "    \"role\": \"Fragger\",\n",
    "    \"location\": 101\n",
    "}\n",
    "\n",
    "print(dic)\n",
    "\n",
    "#Retrives the value of  key\n",
    "print(dic[\"role\"])\n",
    "print(dic[\"name\"])\n",
    "print(dic[\"location\"])\n",
    "dic.get(\"name\")\n",
    "print(dic.values())\n"
   ]
  },
  {
   "cell_type": "markdown",
   "id": "59bdda27",
   "metadata": {},
   "source": [
    "#### Retriving the keys of dictionary"
   ]
  },
  {
   "cell_type": "code",
   "execution_count": 28,
   "id": "5ce86498",
   "metadata": {},
   "outputs": [
    {
     "name": "stdout",
     "output_type": "stream",
     "text": [
      "{'name': 'Mahakal', 'role': 'Assaulter'}\n",
      "dict_keys(['name', 'role'])\n"
     ]
    }
   ],
   "source": [
    "dic = {\n",
    "    \"name\": \"Mahakal\",\n",
    "    \"role\": \"Assaulter\" \n",
    "}\n",
    "\n",
    "print(dic)\n",
    "print(dic.keys())\n"
   ]
  },
  {
   "cell_type": "markdown",
   "id": "90e0215a",
   "metadata": {},
   "source": [
    "## Functions"
   ]
  },
  {
   "cell_type": "code",
   "execution_count": 33,
   "id": "e5f394d7",
   "metadata": {},
   "outputs": [
    {
     "name": "stdout",
     "output_type": "stream",
     "text": [
      "Hello Rabbit!\n"
     ]
    }
   ],
   "source": [
    "### Defining a function\n",
    "def function_name():\n",
    "    print(\"Hello Rabbit!\")\n",
    "\n",
    "function_name();"
   ]
  },
  {
   "cell_type": "markdown",
   "id": "2eae4ac8",
   "metadata": {},
   "source": [
    "#### Types of Functions \n",
    "      ##### Function with no parameters and no return values\n",
    "      ##### Function with parameters and no return values"
   ]
  },
  {
   "cell_type": "code",
   "execution_count": null,
   "id": "7a4a746a",
   "metadata": {},
   "outputs": [
    {
     "name": "stdout",
     "output_type": "stream",
     "text": [
      "The sumis 9\n"
     ]
    }
   ],
   "source": [
    "### Defining the function with no parameters and no return values\n",
    "def sum():\n",
    "    a= int(input(\"Enter the first number\"))\n",
    "    b= int(input(\"Enter the second number\"))\n",
    "    sum = a+b\n",
    "    print(\"The sum is\",sum)\n",
    "\n",
    "sum();\n",
    "    "
   ]
  },
  {
   "cell_type": "code",
   "execution_count": 42,
   "id": "887e7994",
   "metadata": {},
   "outputs": [
    {
     "name": "stdout",
     "output_type": "stream",
     "text": [
      "The sum is: 11\n"
     ]
    }
   ],
   "source": [
    "### Defining the function with parameters and no return values\n",
    "def sum(x,y):\n",
    "    sum = x+y\n",
    "    print(\"The sum is:\",sum)\n",
    "sum(5,6)"
   ]
  },
  {
   "cell_type": "markdown",
   "id": "a12e5f0f",
   "metadata": {},
   "source": []
  }
 ],
 "metadata": {
  "kernelspec": {
   "display_name": "Python 3",
   "language": "python",
   "name": "python3"
  },
  "language_info": {
   "codemirror_mode": {
    "name": "ipython",
    "version": 3
   },
   "file_extension": ".py",
   "mimetype": "text/x-python",
   "name": "python",
   "nbconvert_exporter": "python",
   "pygments_lexer": "ipython3",
   "version": "3.13.4"
  }
 },
 "nbformat": 4,
 "nbformat_minor": 5
}
