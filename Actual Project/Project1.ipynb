{
 "cells": [
  {
   "cell_type": "markdown",
   "id": "0e2eec34",
   "metadata": {},
   "source": [
    "### Project 1 Based on Machine Learning to Predict the Salary of the Employees"
   ]
  },
  {
   "cell_type": "code",
   "execution_count": null,
   "id": "b9d4dc22",
   "metadata": {},
   "outputs": [],
   "source": [
    "# Importing panda libraries \n",
    "\n",
    "import pandas as pd\n",
    "\n",
    "#Importing error libraries\n",
    "from sklearn.metrics import mean_squared_error, mean_asbolute_error, mean_absolute_percentage_error\n",
    "\n",
    "# Importing matplotlib libraries for visual representatio\n",
    "import matplotlib.pyplot as plt\n",
    "\n",
    "# Importing model selection for train spliting so as to train the model and test the model\n",
    "from sklearn.model_selection import train_test_model\n"
   ]
  }
 ],
 "metadata": {
  "kernelspec": {
   "display_name": "Python 3",
   "language": "python",
   "name": "python3"
  },
  "language_info": {
   "name": "python",
   "version": "3.13.5"
  }
 },
 "nbformat": 4,
 "nbformat_minor": 5
}
