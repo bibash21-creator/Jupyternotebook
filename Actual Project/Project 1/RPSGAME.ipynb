{
 "cells": [
  {
   "cell_type": "markdown",
   "id": "4ca36ca3",
   "metadata": {},
   "source": [
    "### Rock, Paper, Scissor Game Using Python Language"
   ]
  },
  {
   "cell_type": "code",
   "execution_count": null,
   "id": "0220f69e",
   "metadata": {},
   "outputs": [],
   "source": [
    "\"\"\" Here We will be creating a rock, paper and scissor game where\n",
    "The users and computer play against each other, \n",
    "The users can play for multiple number of takes as per their likings,\n",
    "The users can choose from three option available i.e 1. Rock, 2. Paper, 3. Scissor where just inserting the number of the things \n",
    "must do the solution to the problem.\n",
    "The computer gets its choice randomly with introduction of Random() function that is built in in Python Programming. \n",
    "Always apply the rule of RPSGame to have fair competition. \n",
    "\"\"\"\n"
   ]
  },
  {
   "cell_type": "code",
   "execution_count": null,
   "id": "e3479974",
   "metadata": {},
   "outputs": [
    {
     "ename": "IndentationError",
     "evalue": "unexpected indent (2451717415.py, line 10)",
     "output_type": "error",
     "traceback": [
      "  \u001b[36mCell\u001b[39m\u001b[36m \u001b[39m\u001b[32mIn[1]\u001b[39m\u001b[32m, line 10\u001b[39m\n\u001b[31m    \u001b[39m\u001b[31mwhile(play_Again):\u001b[39m\n    ^\n\u001b[31mIndentationError\u001b[39m\u001b[31m:\u001b[39m unexpected indent\n"
     ]
    }
   ],
   "source": [
    "#WAP TO CREATE A ROCK, PAPER AND SCISSOR GAME USING PYTHON\n",
    "\n",
    "def rpsgame():\n",
    "    import random;\n",
    "    print(\"Welcome To The Rock, Paper and Scissor Game\");\n",
    "    user_Score = 0; \n",
    "    computer_Score = 0;\n",
    "\n",
    "    play_Again = True;\n",
    "\n",
    "    while(play_Again==True):\n",
    "                print(\"Enter your choices: 1. Rock  2. Paper 3. Scissor\");\n",
    "\n",
    "\n",
    "                \n",
    "                play_Round(user_Score, computer_Score);\n",
    "                play_Again = play_again();\n",
    "    print_final_score(user_Score, computer_Score);\n",
    "    print(\"Thanks for Playing the Game\");\n",
    "\n",
    "\n",
    "#Function to Play Single Round Game\n",
    "def play_Round(user_Score, computer_Score):\n",
    "     \n",
    "\n",
    "#Function to Play the game again\n",
    "def play_again():\n",
    "     \n",
    "#Function to print the final score\n",
    "def print_final_score():\n",
    "\n",
    "    "
   ]
  },
  {
   "cell_type": "code",
   "execution_count": null,
   "id": "10e8c819",
   "metadata": {},
   "outputs": [],
   "source": []
  }
 ],
 "metadata": {
  "kernelspec": {
   "display_name": "Python 3",
   "language": "python",
   "name": "python3"
  },
  "language_info": {
   "codemirror_mode": {
    "name": "ipython",
    "version": 3
   },
   "file_extension": ".py",
   "mimetype": "text/x-python",
   "name": "python",
   "nbconvert_exporter": "python",
   "pygments_lexer": "ipython3",
   "version": "3.13.4"
  }
 },
 "nbformat": 4,
 "nbformat_minor": 5
}
