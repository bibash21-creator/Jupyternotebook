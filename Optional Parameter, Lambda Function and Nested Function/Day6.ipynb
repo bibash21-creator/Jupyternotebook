{
 "cells": [
  {
   "cell_type": "markdown",
   "id": "9683dd9c",
   "metadata": {},
   "source": [
    "# Missed Days on Programming"
   ]
  },
  {
   "cell_type": "code",
   "execution_count": 2,
   "id": "e82c72f1",
   "metadata": {},
   "outputs": [
    {
     "name": "stdout",
     "output_type": "stream",
     "text": [
      "The simple interest is: 260.0\n"
     ]
    }
   ],
   "source": [
    "### Simple Interest Using Arguments and no return values\n",
    "###Function defintion\n",
    "def interest(p,t,r):\n",
    "    SI = (p*t*r)/100;\n",
    "    print(\"The simple interest is:\", SI);\n",
    "\n",
    "p = int(input(\"Enter your principle amount\"));\n",
    "t = int(input(\"Enter the time period upto which interest is applied\"));\n",
    "r = int(input(\"Enter the rate of interest\"));\n",
    "\n",
    "interest(p,t,r); #Function calling"
   ]
  },
  {
   "cell_type": "code",
   "execution_count": null,
   "id": "1f57785a",
   "metadata": {},
   "outputs": [
    {
     "name": "stdout",
     "output_type": "stream",
     "text": [
      "The simple interest is: 1200.0\n"
     ]
    }
   ],
   "source": [
    "### Simple Interest using Arguments and  no Return values but just the print\n",
    "def simple_interest(p,t,r):\n",
    "    SI = (p*t*r)/100;\n",
    "    print(\"The simple interest amount is:\", SI);\n",
    "\n",
    "p = int(input(\"Enter the principle amount:\"));\n",
    "t = int(input(\"Enter the time period for which the interest gets applied\"));\n",
    "r = int(input(\"enter the time period\"));\n",
    "\n",
    "interest = interest(p,t,r);\n"
   ]
  },
  {
   "cell_type": "code",
   "execution_count": 32,
   "id": "fdcff7dc",
   "metadata": {},
   "outputs": [],
   "source": [
    "### WAP to create functions that takes a lists of numbers and returns the sum\n",
    "def sumthisup(price):\n",
    "    total = sum(price);\n",
    "    print(total);\n",
    "\n",
    "\n",
    "price = [100,30,20,500];\n",
    "\n",
    "\n",
    "\n",
    "\n",
    "\n"
   ]
  },
  {
   "cell_type": "markdown",
   "id": "04bfa19c",
   "metadata": {},
   "source": [
    "### Optional Parameter"
   ]
  },
  {
   "cell_type": "code",
   "execution_count": 10,
   "id": "a66045bd",
   "metadata": {},
   "outputs": [
    {
     "name": "stdout",
     "output_type": "stream",
     "text": [
      "The area of the rectangle is: 20\n"
     ]
    }
   ],
   "source": [
    "#Optional Parameter\n",
    "\n",
    "def rectangle(l= 10, b=2):\n",
    "     area = l*b;\n",
    "     return area;\n",
    "#len = 10;\n",
    "#bread = 20;\n",
    "area = rectangle();\n",
    "print(\"The area of the rectangle is:\", area );\n"
   ]
  },
  {
   "cell_type": "markdown",
   "id": "f9a291e4",
   "metadata": {},
   "source": [
    "#### Important Questions\n"
   ]
  },
  {
   "cell_type": "code",
   "execution_count": null,
   "id": "770b5ae0",
   "metadata": {},
   "outputs": [],
   "source": [
    "### Important Question Programs for optional parameter\n",
    "\n",
    "Easy\n",
    "1. Write a function greet(name: str = \"Guest\") that prints \"Hello, {name}!\" with a default value.\n",
    "\n",
    "2. Create a function multiply(a: int, b: int = 1) that returns a * b, where b is optional.\n",
    "\n",
    "\n",
    "\n",
    "Medium\n",
    "1. Write a function create_list(item, default=None) that appends item to a list, but initializes a new list if default is None.\n",
    "\n",
    "2. Implement a function apply_discount(price: float, discount: float = 0.1) that returns the discounted price.\n",
    "\n",
    "3. Write a function format_date(day: int, month: int, year: int = 2023) that returns a date string in \"DD-MM-YYYY\" format.\n",
    "\n",
    "Hard\n",
    "1. Build a function cache(func, max_size: int = 128) that memoizes function results with an optional cache limit.\n",
    "\n"
   ]
  },
  {
   "cell_type": "code",
   "execution_count": 20,
   "id": "62395641",
   "metadata": {},
   "outputs": [
    {
     "name": "stdout",
     "output_type": "stream",
     "text": [
      "Computing 3 + 4...\n",
      "Result 1: 7\n",
      "Result 2: 7\n",
      "Computing 5 + 7...\n",
      "Result 3: 12\n",
      "Result 4: 7\n",
      "Computing 9 + 6...\n",
      "Result 5: 15\n"
     ]
    }
   ],
   "source": [
    "### 1. Build a function cache(func, max_size: int = 128) that memoizes function results with an optional cache limit.\n",
    "def cache(func, max_size: int = 128):\n",
    "    memo = {}\n",
    "    order = []\n",
    "\n",
    "    def wrapper(*args):\n",
    "        if args in memo:\n",
    "            return memo[args]\n",
    "        result = func(*args)\n",
    "        if len(memo) >= max_size:\n",
    "            oldest = order.pop(0)\n",
    "            del memo[oldest]\n",
    "        memo[args] = result\n",
    "        order.append(args)\n",
    "        return result\n",
    "\n",
    "    return wrapper\n",
    "\n",
    "# Example: Use the cache on an expensive function\n",
    "@cache\n",
    "def slow_add(a, b):\n",
    "    print(f\"Computing {a} + {b}...\")\n",
    "    return a + b\n",
    "\n",
    "# Test the cached function\n",
    "print(\"Result 1:\", slow_add(3, 4))  # Computes\n",
    "print(\"Result 2:\", slow_add(3, 4))  # Cached\n",
    "print(\"Result 3:\", slow_add(5, 7))  # Computes\n",
    "print(\"Result 4:\", slow_add(3, 4))  # Cached again\n",
    "print(\"Result 5:\", slow_add(9,6))   #Cached again"
   ]
  },
  {
   "cell_type": "code",
   "execution_count": 16,
   "id": "d6ef0db7",
   "metadata": {},
   "outputs": [
    {
     "name": "stdout",
     "output_type": "stream",
     "text": [
      "Today Date is:\n",
      "05-03-2023\n"
     ]
    }
   ],
   "source": [
    "### 3. Write a function format_date(day: int, month: int, year: int = 2023) that returns a date string in \"DD-MM-YYYY\" format.\n",
    "def format_date(day: int, month: int, year: int = 2023) ->str:\n",
    "    #Format Date in string\n",
    "    return f\"{day:02d}-{month:02d}-{year}\"\n",
    "#Examples\n",
    "print(\"Today Date is:\");\n",
    "print(format_date(5,3))"
   ]
  },
  {
   "cell_type": "code",
   "execution_count": 12,
   "id": "579cd8de",
   "metadata": {},
   "outputs": [
    {
     "name": "stdout",
     "output_type": "stream",
     "text": [
      "the discounted amount is 4.9\n"
     ]
    }
   ],
   "source": [
    "### 2. Implement a function apply_discount(price: float, discount: float = 0.1) that returns the discounted price.\n",
    "\n",
    "def apply_discount(price: float, discount: float = 0.1):\n",
    "    discount = price - discount;\n",
    "    return discount;\n",
    "discount_amount = apply_discount(5)\n",
    "print(\"the discounted amount is\", discount_amount);"
   ]
  },
  {
   "cell_type": "code",
   "execution_count": 11,
   "id": "0be9ab6a",
   "metadata": {},
   "outputs": [
    {
     "name": "stdout",
     "output_type": "stream",
     "text": [
      "example 1 is showing something\n",
      "Result 1 is: ['apple']\n"
     ]
    }
   ],
   "source": [
    "### 1. Write a function create_list(item, default=None) that appends item to a list, \n",
    "# but initializes a new list if default is None.\n",
    "def create_list(item, default= None):\n",
    "    if default is None:\n",
    "        default =[];\n",
    "    default.append(item)\n",
    "    return default\n",
    "print(\"example 1 is showing something\");\n",
    "result_1 = create_list('apple');\n",
    "print(\"Result 1 is:\", result_1);"
   ]
  },
  {
   "cell_type": "code",
   "execution_count": 6,
   "id": "fdad5216",
   "metadata": {},
   "outputs": [
    {
     "name": "stdout",
     "output_type": "stream",
     "text": [
      "30\n"
     ]
    }
   ],
   "source": [
    "### 2. Create a function multiply(a: int, b: int = 1) that returns a * b, where b is optional and print the value\n",
    "def multiple(a, b=1):\n",
    "    return a*b\n",
    "\n",
    "print(multiple(5,6))"
   ]
  },
  {
   "cell_type": "code",
   "execution_count": 11,
   "id": "3c44b871",
   "metadata": {},
   "outputs": [
    {
     "name": "stdout",
     "output_type": "stream",
     "text": [
      "Hello,Bibash\n"
     ]
    }
   ],
   "source": [
    "### Print Hello, {name} with a default value using Python\n",
    "def greet(name: str= \"Bibash\"):\n",
    "        print(f\"Hello,{name}\")\n",
    "greet()\n"
   ]
  },
  {
   "cell_type": "markdown",
   "id": "0f100420",
   "metadata": {},
   "source": [
    "### Lambda Function"
   ]
  },
  {
   "cell_type": "code",
   "execution_count": null,
   "id": "e8fcce76",
   "metadata": {},
   "outputs": [],
   "source": [
    "### Syntax of Lambda Function\n",
    "\n",
    "# function_name lambda parameters: return values\n",
    "\n",
    "# print(function_name(arguments))"
   ]
  },
  {
   "cell_type": "code",
   "execution_count": null,
   "id": "4065065d",
   "metadata": {},
   "outputs": [
    {
     "name": "stdout",
     "output_type": "stream",
     "text": [
      "25\n"
     ]
    }
   ],
   "source": [
    "### Lambda Function  or Anonymous Function\n",
    "\n",
    "square = lambda n: n**2\n",
    "\n",
    "print(square(5));"
   ]
  },
  {
   "cell_type": "code",
   "execution_count": 17,
   "id": "78a618ed",
   "metadata": {},
   "outputs": [
    {
     "name": "stdout",
     "output_type": "stream",
     "text": [
      "30\n"
     ]
    }
   ],
   "source": [
    "### lambda function to compute the area of the rectangle\n",
    "\n",
    "area = lambda l,b: l*b;\n",
    "\n",
    "print(area(5,6));"
   ]
  },
  {
   "cell_type": "markdown",
   "id": "f504c772",
   "metadata": {},
   "source": [
    "### Nested Function"
   ]
  },
  {
   "cell_type": "code",
   "execution_count": 24,
   "id": "6d6be156",
   "metadata": {},
   "outputs": [
    {
     "name": "stdout",
     "output_type": "stream",
     "text": [
      "This is the parent function\n",
      "This is the child function\n"
     ]
    }
   ],
   "source": [
    "### Nested Function\n",
    "\n",
    "def parent():\n",
    "    print(\"This is the parent function\");\n",
    "\n",
    "    def child():\n",
    "        print(\"This is the child function\");\n",
    "    child();\n",
    "parent();"
   ]
  },
  {
   "cell_type": "code",
   "execution_count": 26,
   "id": "d7570825",
   "metadata": {},
   "outputs": [
    {
     "name": "stdout",
     "output_type": "stream",
     "text": [
      "this is the parent function\n",
      "this is the child1 function\n",
      "this is the child2 function\n"
     ]
    }
   ],
   "source": [
    "### Nested function second\n",
    "def parent():\n",
    "    print(\"this is the parent function\");\n",
    "    def child1():\n",
    "        print(\"this is the child1 function\");\n",
    "    def child2():\n",
    "        print(\"this is the child2 function\");\n",
    "\n",
    "    child1();\n",
    "    child2();\n",
    "parent();"
   ]
  },
  {
   "cell_type": "code",
   "execution_count": null,
   "id": "e861e44b",
   "metadata": {},
   "outputs": [],
   "source": [
    "### List of Nested Functions\n",
    "\n",
    "Easy\n",
    "1. Write a lambda function to double a number.\n",
    "\n",
    "2. Write a lambda function to check if a number is even.\n",
    "\n",
    "3. Write a lambda function to convert a string to uppercase.\n",
    "\n",
    "Medium\n",
    "1. Write a lambda function to sort a list of tuples by their second element.\n",
    "\n",
    "2. Write a lambda function to filter vowels out of a string.\n",
    "\n",
    "3. Write a lambda function to multiply two lists element-wise.\n",
    "\n",
    "4. Write a lambda function to count words longer than 3 characters in a string.\n",
    "\n",
    "Hard\n",
    "1. Write a lambda function to flatten a 2D list (without using itertools).\n",
    "\n",
    "2. Write a lambda function to compute the factorial of a number (one line).\n",
    "\n",
    "3. Write a lambda function to generate Fibonacci numbers up to n terms.\n",
    "\n",
    "Very Hard\n",
    "1. Write a lambda function to check if a string is a palindrome (ignore case/spaces).\n",
    "\n",
    "2. Write a lambda function to implement a simple calculator (add/subtract/multiply/divide).\n",
    "\n",
    "3. Write a lambda function to find prime numbers in a list.\n",
    "\n"
   ]
  },
  {
   "cell_type": "markdown",
   "id": "ddad042e",
   "metadata": {},
   "source": [
    "### Local Variable\n"
   ]
  },
  {
   "cell_type": "code",
   "execution_count": 27,
   "id": "317ab55a",
   "metadata": {},
   "outputs": [
    {
     "name": "stdout",
     "output_type": "stream",
     "text": [
      "5\n"
     ]
    }
   ],
   "source": [
    "# Use case of local variable\n",
    "\n",
    "def display():\n",
    "    x= 5;\n",
    "    print(x);\n",
    "display();"
   ]
  },
  {
   "cell_type": "markdown",
   "id": "20d3d3dd",
   "metadata": {},
   "source": [
    "### Global Variable"
   ]
  },
  {
   "cell_type": "code",
   "execution_count": 28,
   "id": "ea843e99",
   "metadata": {},
   "outputs": [
    {
     "name": "stdout",
     "output_type": "stream",
     "text": [
      "5\n"
     ]
    }
   ],
   "source": [
    "### Use case of Global Variable\n",
    "x= 10;\n",
    "def display():\n",
    "    global x;\n",
    "    x =5;\n",
    "display();\n",
    "print(x);"
   ]
  }
 ],
 "metadata": {
  "kernelspec": {
   "display_name": "Python 3",
   "language": "python",
   "name": "python3"
  },
  "language_info": {
   "codemirror_mode": {
    "name": "ipython",
    "version": 3
   },
   "file_extension": ".py",
   "mimetype": "text/x-python",
   "name": "python",
   "nbconvert_exporter": "python",
   "pygments_lexer": "ipython3",
   "version": "3.13.4"
  }
 },
 "nbformat": 4,
 "nbformat_minor": 5
}
