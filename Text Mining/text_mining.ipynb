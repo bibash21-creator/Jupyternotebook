{
 "cells": [
  {
   "cell_type": "markdown",
   "id": "d6a003c5",
   "metadata": {},
   "source": [
    "# Text Mining in Data Science Begins"
   ]
  },
  {
   "cell_type": "code",
   "execution_count": 11,
   "id": "8cd35891",
   "metadata": {},
   "outputs": [],
   "source": [
    "# 1. Opening a file\n",
    "\n",
    "# --- Syntax\n",
    "\n",
    "# with open(\"filename\", \"mode\", \"encoding\") as f:\n",
    "\n",
    "\n",
    "with open(\"data.txt\", 'r', encoding = 'utf-8') as f:\n",
    "\n",
    "    text_df = f.read()\n"
   ]
  },
  {
   "cell_type": "code",
   "execution_count": 12,
   "id": "83460672",
   "metadata": {},
   "outputs": [
    {
     "data": {
      "text/plain": [
       "'Football is a family of team sports that involve, to varying degrees, kicking a ball to score a goal. Unqualified, the word football generally means the form of football that is the most popular where the word is used. Sports commonly called football include association football (known as soccer in Australia, Canada, South Africa, the United States, and sometimes in Ireland and New Zealand); Australian rules football; Gaelic football; gridiron football (specifically American football, arena football, or Canadian football); International rules football; rugby league football; and rugby union football.[1] '"
      ]
     },
     "execution_count": 12,
     "metadata": {},
     "output_type": "execute_result"
    }
   ],
   "source": [
    "text_df"
   ]
  },
  {
   "cell_type": "code",
   "execution_count": null,
   "id": "6829c4fd",
   "metadata": {},
   "outputs": [
    {
     "name": "stdout",
     "output_type": "stream",
     "text": [
      "<class 'str'>\n"
     ]
    },
    {
     "ename": "AttributeError",
     "evalue": "'str' object has no attribute 'dtype'",
     "output_type": "error",
     "traceback": [
      "\u001b[31m---------------------------------------------------------------------------\u001b[39m",
      "\u001b[31mAttributeError\u001b[39m                            Traceback (most recent call last)",
      "\u001b[36mCell\u001b[39m\u001b[36m \u001b[39m\u001b[32mIn[25]\u001b[39m\u001b[32m, line 4\u001b[39m\n\u001b[32m      1\u001b[39m \u001b[38;5;28mprint\u001b[39m(\u001b[38;5;28mtype\u001b[39m(text_df\n\u001b[32m      2\u001b[39m            ))\n\u001b[32m----> \u001b[39m\u001b[32m4\u001b[39m \u001b[38;5;28mprint\u001b[39m(\u001b[43mtext_df\u001b[49m\u001b[43m.\u001b[49m\u001b[43mdtype\u001b[49m)\n",
      "\u001b[31mAttributeError\u001b[39m: 'str' object has no attribute 'dtype'"
     ]
    }
   ],
   "source": [
    "print(type(text_df))\n",
    "\n"
   ]
  },
  {
   "cell_type": "markdown",
   "id": "2cfb8fd9",
   "metadata": {},
   "source": [
    "# Text Preprocessing"
   ]
  },
  {
   "cell_type": "code",
   "execution_count": 13,
   "id": "7ef9175a",
   "metadata": {},
   "outputs": [
    {
     "name": "stdout",
     "output_type": "stream",
     "text": [
      "Defaulting to user installation because normal site-packages is not writeable\n",
      "Requirement already satisfied: nltk in c:\\users\\hp\\appdata\\roaming\\python\\python313\\site-packages (3.9.1)\n",
      "Requirement already satisfied: click in c:\\users\\hp\\appdata\\roaming\\python\\python313\\site-packages (from nltk) (8.2.1)\n",
      "Requirement already satisfied: joblib in c:\\users\\hp\\appdata\\roaming\\python\\python313\\site-packages (from nltk) (1.5.1)\n",
      "Requirement already satisfied: regex>=2021.8.3 in c:\\users\\hp\\appdata\\roaming\\python\\python313\\site-packages (from nltk) (2025.7.34)\n",
      "Requirement already satisfied: tqdm in c:\\users\\hp\\appdata\\roaming\\python\\python313\\site-packages (from nltk) (4.67.1)\n",
      "Requirement already satisfied: colorama in c:\\users\\hp\\appdata\\roaming\\python\\python313\\site-packages (from click->nltk) (0.4.6)\n",
      "Note: you may need to restart the kernel to use updated packages.\n"
     ]
    }
   ],
   "source": [
    "pip install nltk"
   ]
  },
  {
   "cell_type": "markdown",
   "id": "836e8945",
   "metadata": {},
   "source": [
    "### Tokenization"
   ]
  },
  {
   "cell_type": "markdown",
   "id": "74939f53",
   "metadata": {},
   "source": [
    "##### Text: \"I love coding.\"\n",
    "##### Tokens: [\"I\", \"love\", \"coding\", \".\"]"
   ]
  },
  {
   "cell_type": "code",
   "execution_count": null,
   "id": "e282573b",
   "metadata": {},
   "outputs": [
    {
     "name": "stderr",
     "output_type": "stream",
     "text": [
      "[nltk_data] Downloading package punkt_tab to\n",
      "[nltk_data]     C:\\Users\\hp\\AppData\\Roaming\\nltk_data...\n",
      "[nltk_data]   Unzipping tokenizers\\punkt_tab.zip.\n"
     ]
    },
    {
     "data": {
      "text/plain": [
       "['Football',\n",
       " 'is',\n",
       " 'a',\n",
       " 'family',\n",
       " 'of',\n",
       " 'team',\n",
       " 'sports',\n",
       " 'that',\n",
       " 'involve',\n",
       " ',',\n",
       " 'to',\n",
       " 'varying',\n",
       " 'degrees',\n",
       " ',',\n",
       " 'kicking',\n",
       " 'a',\n",
       " 'ball',\n",
       " 'to',\n",
       " 'score',\n",
       " 'a',\n",
       " 'goal',\n",
       " '.',\n",
       " 'Unqualified',\n",
       " ',',\n",
       " 'the',\n",
       " 'word',\n",
       " 'football',\n",
       " 'generally',\n",
       " 'means',\n",
       " 'the',\n",
       " 'form',\n",
       " 'of',\n",
       " 'football',\n",
       " 'that',\n",
       " 'is',\n",
       " 'the',\n",
       " 'most',\n",
       " 'popular',\n",
       " 'where',\n",
       " 'the',\n",
       " 'word',\n",
       " 'is',\n",
       " 'used',\n",
       " '.',\n",
       " 'Sports',\n",
       " 'commonly',\n",
       " 'called',\n",
       " 'football',\n",
       " 'include',\n",
       " 'association',\n",
       " 'football',\n",
       " '(',\n",
       " 'known',\n",
       " 'as',\n",
       " 'soccer',\n",
       " 'in',\n",
       " 'Australia',\n",
       " ',',\n",
       " 'Canada',\n",
       " ',',\n",
       " 'South',\n",
       " 'Africa',\n",
       " ',',\n",
       " 'the',\n",
       " 'United',\n",
       " 'States',\n",
       " ',',\n",
       " 'and',\n",
       " 'sometimes',\n",
       " 'in',\n",
       " 'Ireland',\n",
       " 'and',\n",
       " 'New',\n",
       " 'Zealand',\n",
       " ')',\n",
       " ';',\n",
       " 'Australian',\n",
       " 'rules',\n",
       " 'football',\n",
       " ';',\n",
       " 'Gaelic',\n",
       " 'football',\n",
       " ';',\n",
       " 'gridiron',\n",
       " 'football',\n",
       " '(',\n",
       " 'specifically',\n",
       " 'American',\n",
       " 'football',\n",
       " ',',\n",
       " 'arena',\n",
       " 'football',\n",
       " ',',\n",
       " 'or',\n",
       " 'Canadian',\n",
       " 'football',\n",
       " ')',\n",
       " ';',\n",
       " 'International',\n",
       " 'rules',\n",
       " 'football',\n",
       " ';',\n",
       " 'rugby',\n",
       " 'league',\n",
       " 'football',\n",
       " ';',\n",
       " 'and',\n",
       " 'rugby',\n",
       " 'union',\n",
       " 'football',\n",
       " '.',\n",
       " '[',\n",
       " '1',\n",
       " ']']"
      ]
     },
     "execution_count": 22,
     "metadata": {},
     "output_type": "execute_result"
    }
   ],
   "source": [
    "# Coding\n",
    "import nltk \n",
    "nltk.download('punkt_tab')\n",
    "\n",
    "from nltk.tokenize import word_tokenize\n",
    "\n",
    "text_tokens = word_tokenize(text_df)\n",
    "\n",
    "text_tokens\n",
    "\n",
    "\n"
   ]
  },
  {
   "cell_type": "code",
   "execution_count": 23,
   "id": "bd69d4dd",
   "metadata": {},
   "outputs": [
    {
     "name": "stdout",
     "output_type": "stream",
     "text": [
      "<class 'list'>\n"
     ]
    }
   ],
   "source": [
    "# Checking type\n",
    "\n",
    "print(type(text_tokens))"
   ]
  },
  {
   "cell_type": "markdown",
   "id": "7b661a4d",
   "metadata": {},
   "source": [
    "### Frequent words"
   ]
  },
  {
   "cell_type": "markdown",
   "id": "34231e64",
   "metadata": {},
   "source": [
    "### Punctuation Removal"
   ]
  },
  {
   "cell_type": "markdown",
   "id": "4aa46d79",
   "metadata": {},
   "source": [
    "### Stopwords Removal"
   ]
  },
  {
   "cell_type": "markdown",
   "id": "83541c6b",
   "metadata": {},
   "source": [
    "# Library for Text Preprocessing: NLTK"
   ]
  }
 ],
 "metadata": {
  "kernelspec": {
   "display_name": "Python 3",
   "language": "python",
   "name": "python3"
  },
  "language_info": {
   "codemirror_mode": {
    "name": "ipython",
    "version": 3
   },
   "file_extension": ".py",
   "mimetype": "text/x-python",
   "name": "python",
   "nbconvert_exporter": "python",
   "pygments_lexer": "ipython3",
   "version": "3.13.5"
  }
 },
 "nbformat": 4,
 "nbformat_minor": 5
}
