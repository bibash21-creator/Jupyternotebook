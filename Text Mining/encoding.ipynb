{
 "cells": [
  {
   "cell_type": "markdown",
   "id": "3b4ccd38",
   "metadata": {},
   "source": [
    "# Encoding for the Text Data Type Begins"
   ]
  },
  {
   "cell_type": "code",
   "execution_count": null,
   "id": "f0a46c6b",
   "metadata": {},
   "outputs": [],
   "source": [
    "# Label Encoding\n",
    "# One Hot Encoding\n",
    "# Bag of Words\n",
    "\n"
   ]
  },
  {
   "cell_type": "markdown",
   "id": "901ee4ff",
   "metadata": {},
   "source": [
    "### Label Encoding\n"
   ]
  },
  {
   "cell_type": "code",
   "execution_count": null,
   "id": "244772f9",
   "metadata": {},
   "outputs": [],
   "source": [
    "# Label Encoding is a technique used to convert categorical values (like class labels or categories) into numerical values.\n",
    "#  Each unique category is assigned a unique integer."
   ]
  },
  {
   "cell_type": "code",
   "execution_count": null,
   "id": "7a50f78f",
   "metadata": {},
   "outputs": [],
   "source": [
    "# For the given sentence, make a vocabulary such that it is the collection of words...\n",
    "\n",
    "# In Label Encoding\n",
    "\n",
    "# good product bad very\n",
    "\n",
    "# Here we just simply put label to the words before defining the complete sentence\n",
    "\n",
    "# Alphabetical and occurence order must be taken care of\n",
    "\n",
    "bad : 0\n",
    "\n",
    "good: 1\n",
    "\n",
    "product: 2\n",
    "\n",
    "very: 3\n",
    "\n",
    "# So in label encoding we take \n",
    "\n",
    "# good product = [1 ,2 ]\n",
    "\n",
    "# very bad = [3, 0 ]\n",
    "\n",
    "\n"
   ]
  },
  {
   "cell_type": "markdown",
   "id": "56159e73",
   "metadata": {},
   "source": [
    "### One Hot Encoding"
   ]
  },
  {
   "cell_type": "code",
   "execution_count": null,
   "id": "87ebce9f",
   "metadata": {},
   "outputs": [],
   "source": [
    "# One-Hot Encoding is a technique used to \n",
    "# convert categorical data (like words or labels) into a binary vector format that machine learning models can understand."
   ]
  },
  {
   "cell_type": "code",
   "execution_count": null,
   "id": "621d91cd",
   "metadata": {},
   "outputs": [],
   "source": [
    "# SUpposing the above 0 and 1 we use...\n",
    "\n",
    "# So in One Hot  encoding we take\n",
    "\n",
    "# good product =    [0 1 0 0] [0 0 1 0]\n",
    "# \n",
    "# \n",
    "# \n",
    "# very bad =  [0 0 0 1] [1 0 0 0]"
   ]
  },
  {
   "cell_type": "markdown",
   "id": "a7509675",
   "metadata": {},
   "source": [
    "### Bag of Words"
   ]
  },
  {
   "cell_type": "code",
   "execution_count": null,
   "id": "960a4300",
   "metadata": {},
   "outputs": [],
   "source": [
    "# Bag of Words is a simple and widely used technique in natural language processing (NLP) to represent text data. \n",
    "# It transforms text into numerical features for machine learning models."
   ]
  },
  {
   "cell_type": "code",
   "execution_count": null,
   "id": "06285aa0",
   "metadata": {},
   "outputs": [],
   "source": [
    "# Supposing the above let words we take\n",
    "\n",
    "# good product = [0 1 1 0]\n",
    "\n",
    "# very bad = [1 0 0 1]"
   ]
  }
 ],
 "metadata": {
  "kernelspec": {
   "display_name": "Python 3",
   "language": "python",
   "name": "python3"
  },
  "language_info": {
   "name": "python",
   "version": "3.13.5"
  }
 },
 "nbformat": 4,
 "nbformat_minor": 5
}
