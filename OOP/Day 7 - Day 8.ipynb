{
 "cells": [
  {
   "cell_type": "markdown",
   "id": "4133d57e",
   "metadata": {},
   "source": [
    "# File Handling Begins"
   ]
  },
  {
   "cell_type": "markdown",
   "id": "039c3ef5",
   "metadata": {},
   "source": [
    "# Object Oriented Programming Begins"
   ]
  },
  {
   "cell_type": "markdown",
   "id": "4c9251d2",
   "metadata": {},
   "source": [
    "## Example of Class and Objects in Python\n"
   ]
  },
  {
   "cell_type": "code",
   "execution_count": 1,
   "id": "0da0af44",
   "metadata": {},
   "outputs": [
    {
     "name": "stdout",
     "output_type": "stream",
     "text": [
      "PLAYER\n",
      "PLAYER\n"
     ]
    }
   ],
   "source": [
    "#Example 1\n",
    "class Person:   #Definig the class\n",
    "    species = \"PLAYER\"\n",
    "\n",
    "p1= Person\n",
    "p2= Person\n",
    "\n",
    "print(p1.species)\n",
    "print(p2.species)\n"
   ]
  },
  {
   "cell_type": "code",
   "execution_count": 5,
   "id": "9d4ce177",
   "metadata": {},
   "outputs": [
    {
     "name": "stdout",
     "output_type": "stream",
     "text": [
      "10\n",
      "12\n",
      "13\n"
     ]
    }
   ],
   "source": [
    "#Example 3\n",
    "class Triangle : #Defining the class\n",
    "     a = 10;\n",
    "     b = 12;\n",
    "     c = 13;\n",
    "\n",
    "t1 = Triangle();\n",
    "t2 = Triangle();\n",
    "print(t1.a);\n",
    "print(t1.b);\n",
    "print(t2.c);"
   ]
  },
  {
   "cell_type": "code",
   "execution_count": 31,
   "id": "619d5959",
   "metadata": {},
   "outputs": [
    {
     "name": "stdout",
     "output_type": "stream",
     "text": [
      "the area of the rectangle is: 120\n",
      "the perimeter of the rectangle is: 44\n"
     ]
    }
   ],
   "source": [
    "#Example 2\n",
    "class Rectangle: #Definig the class\n",
    "    length = 10;\n",
    "    breadth = 12;\n",
    "\n",
    "    def area(self):\n",
    "        a1 = self.length*self.breadth;\n",
    "        print(\"the area of the rectangle is:\", a1)\n",
    "    \n",
    "    def peri(self):\n",
    "        p1 = 2* (self.length+self.breadth);\n",
    "        print(\"the perimeter of the rectangle is:\", p1)\n",
    "\n",
    "r1 = Rectangle()\n",
    "r1.area();\n",
    "r1.peri();"
   ]
  },
  {
   "cell_type": "code",
   "execution_count": 17,
   "id": "a7c02bbc",
   "metadata": {},
   "outputs": [
    {
     "name": "stdout",
     "output_type": "stream",
     "text": [
      "the addition of the number is 11\n",
      "the difference of the number is -1\n"
     ]
    }
   ],
   "source": [
    "### Creating a calculator app using class and object\n",
    "\n",
    "class Calculator:\n",
    "    a= 5;\n",
    "    b= 6;\n",
    "    def sum(self):\n",
    "        addition = self.a+self.b;\n",
    "        print(\"the addition of the number is\", addition)\n",
    "    def diff(self):\n",
    "        difference= self.a-self.b\n",
    "        print(\"the difference of the number is\", difference)\n",
    "c1 = Calculator();\n",
    "c1.sum();\n",
    "c1.diff();\n"
   ]
  },
  {
   "cell_type": "code",
   "execution_count": 8,
   "id": "5ffa91e8",
   "metadata": {},
   "outputs": [
    {
     "name": "stdout",
     "output_type": "stream",
     "text": [
      "the multiplier is as 168\n",
      "the divisor is as 0.8571428571428571\n"
     ]
    }
   ],
   "source": [
    "### Creating multiplier and divider using class and object\n",
    "\n",
    "class UpandDown:\n",
    "    a = 12;\n",
    "    b = 14;\n",
    "    def up(self):\n",
    "        upperhouse = self.a*self.b;\n",
    "        print(\"the multiplier is as\", upperhouse)\n",
    "    def down(self):\n",
    "        lowerhouse = self.a/self.b;\n",
    "        print(\"the divisor is as\", lowerhouse);\n",
    "u1 = UpandDown();\n",
    "d1 = UpandDown();\n",
    "\n",
    "u1.up();\n",
    "d1.down()\n",
    "\n"
   ]
  },
  {
   "cell_type": "markdown",
   "id": "01235d58",
   "metadata": {},
   "source": [
    "## Initializer in OOP"
   ]
  },
  {
   "cell_type": "code",
   "execution_count": 26,
   "id": "11720d3c",
   "metadata": {},
   "outputs": [
    {
     "name": "stdout",
     "output_type": "stream",
     "text": [
      "11\n"
     ]
    }
   ],
   "source": [
    "### Example scenario of Initializer\n",
    "\n",
    "class Calculator:\n",
    "    def __init__(self, a, b):\n",
    "        self.a = a;\n",
    "        self.b = b;\n",
    "    def sum(self):\n",
    "        s = self.a + self.b\n",
    "        return s\n",
    "    def diff(self):\n",
    "        d = self.a - self.b\n",
    "        return d\n",
    "\n",
    "c1 = Calculator(5,6);\n",
    "print(c1.sum());"
   ]
  },
  {
   "cell_type": "code",
   "execution_count": 13,
   "id": "1963ce55",
   "metadata": {},
   "outputs": [
    {
     "name": "stdout",
     "output_type": "stream",
     "text": [
      "The brand of the car is Toyota\n",
      "The price of the Car is 500000\n"
     ]
    }
   ],
   "source": [
    "### Another Example scenario of Initializer \n",
    "class Car:\n",
    "    def __init__(self, brand, price):\n",
    "        self.brand = brand;\n",
    "        self.price = price;\n",
    "\n",
    "    def displayInfo(self):\n",
    "        print(\"The brand of the car is\", self.brand)\n",
    "        print(\"The price of the Car is\", self.price)\n",
    "c1 = Car(\"Toyota\", 500000);\n",
    "c1.displayInfo();\n",
    "\n"
   ]
  },
  {
   "cell_type": "code",
   "execution_count": 17,
   "id": "9099f28b",
   "metadata": {},
   "outputs": [
    {
     "name": "stdout",
     "output_type": "stream",
     "text": [
      "The brand of the laptop is Lenovo\n",
      "The RAM of the laptop is 16\n"
     ]
    }
   ],
   "source": [
    "# Create a Python class called Laptop with an initializer method that takes two parameters: brand and ram. \n",
    "# Also, define a method showSpecs() that displays the values of those attributes. \n",
    "# Create an object of the Laptop class and call the showSpecs() method.\n",
    "\n",
    "class Laptop: \n",
    "    def __init__(self, brand, ram):\n",
    "        self.brand = brand;\n",
    "        self.ram = ram;\n",
    "\n",
    "    def showSpecs(self):\n",
    "        print(\"The brand of the laptop is\", self.brand)\n",
    "        print(\"The RAM of the laptop is\", self.ram)\n",
    "\n",
    "l1 = Laptop(\"Lenovo\",16);\n",
    "l1.showSpecs()\n",
    "\n",
    "\n"
   ]
  },
  {
   "cell_type": "code",
   "execution_count": 18,
   "id": "31ba7c24",
   "metadata": {},
   "outputs": [
    {
     "name": "stdout",
     "output_type": "stream",
     "text": [
      "The title of the book is Healthy Men\n",
      "The author of the book is Bibash Poudel\n"
     ]
    }
   ],
   "source": [
    "\"\"\"Write a Python program that defines a class Book with an initializer that takes title and author as parameters. Include a method called showDetails() to print the title and the author of the book. Create an object and use it to display the details.\n",
    "\"\"\"\n",
    "\n",
    "class Book: \n",
    "    def __init__(self, title, author):\n",
    "        self.title = title;\n",
    "        self.author = author;\n",
    "\n",
    "    def showDetails(self):\n",
    "        print(\"The title of the book is\", self.title);\n",
    "        print(\"The author of the book is\", self.author);\n",
    "\n",
    "b1 = Book(\"Healthy Men\", \"Bibash Poudel\");\n",
    "b1.showDetails();"
   ]
  },
  {
   "cell_type": "code",
   "execution_count": 10,
   "id": "ba13057a",
   "metadata": {},
   "outputs": [
    {
     "name": "stdout",
     "output_type": "stream",
     "text": [
      "The amount deposited is: 60000\n",
      "the amount is withdrawn\n",
      "The availabele amount is 53000\n"
     ]
    }
   ],
   "source": [
    "# Class Bank Account\n",
    "#attribute: balance\n",
    "# Methods: \n",
    "    #withdraw; deposit, checkBalance\n",
    "\n",
    "\n",
    "class Bank:\n",
    "    def __init__(self, balance = 0):\n",
    "      self.balance = balance\n",
    "\n",
    "    def deposited(self, deposit):\n",
    "      self.balance = self.balance + deposit\n",
    "      print(\"The amount deposited is:\", self.balance)\n",
    "\n",
    "    def withdrawn(self, withdraw):\n",
    "      self.balance = self.balance - withdraw\n",
    "      print(\"the amount is withdrawn\");\n",
    "\n",
    "    def checkBalance(self):\n",
    "      print(\"The availabele amount is\", self.balance)\n",
    "\n",
    "\n",
    "\n",
    "b1 = Bank(50000);\n",
    "b1.deposited(10000);\n",
    "b1.withdrawn(7000);\n",
    "b1.checkBalance();\n"
   ]
  },
  {
   "cell_type": "markdown",
   "id": "e12eec62",
   "metadata": {},
   "source": [
    "## Inheritance "
   ]
  },
  {
   "cell_type": "code",
   "execution_count": 16,
   "id": "0d7b8a3e",
   "metadata": {},
   "outputs": [
    {
     "name": "stdout",
     "output_type": "stream",
     "text": [
      "The KD of the PUBG player is 4\n",
      "The PUBG id name is Rabbit\n",
      "The PUBG uid is 50203948299\n"
     ]
    }
   ],
   "source": [
    "### Example of One Parent and Child Class\n",
    "\n",
    "class Person:\n",
    "    name = \"Rabbit\"\n",
    "    uid = 50203948299\n",
    "\n",
    "    def display(self):\n",
    "        print(\"The PUBG id name is\", self.name)\n",
    "        print(\"The PUBG uid is\", self.uid)\n",
    "    \n",
    "class ChotaId(Person):\n",
    "    KD = 4\n",
    "    def showdetails(self):\n",
    "        print(\"The KD of the PUBG player is\", self.KD)\n",
    "\n",
    "chotu1 = ChotaId();\n",
    "chotu1.showdetails();\n",
    "chotu1.display();"
   ]
  },
  {
   "cell_type": "code",
   "execution_count": null,
   "id": "d88a5c7a",
   "metadata": {},
   "outputs": [],
   "source": [
    "### Bank \n",
    "    Name\n",
    "    id\n",
    "    Method\n",
    "\n",
    "### Branch Bank\n",
    "    Location\n",
    "\n",
    "### Code this pseudo code"
   ]
  },
  {
   "cell_type": "code",
   "execution_count": 19,
   "id": "b6d6d007",
   "metadata": {},
   "outputs": [
    {
     "name": "stdout",
     "output_type": "stream",
     "text": [
      "The name of the bank is BIBASHKOBANK\n",
      "The id of the bank is BANK420\n",
      "The location of the BIBASHKOBANK's secondary office is Jadibuti\n"
     ]
    }
   ],
   "source": [
    "class Bank:\n",
    "    name = \"BIBASHKOBANK\"\n",
    "    id = \"BANK420\"\n",
    "\n",
    "    def display(self):\n",
    "        print(\"The name of the bank is\", self.name);\n",
    "        print(\"The id of the bank is\", self.id);\n",
    "\n",
    "class BBank(Bank):\n",
    "    location = \"Jadibuti\"\n",
    "\n",
    "    def display2(self):\n",
    "        print(\"The location of the BIBASHKOBANK's secondary office is\", self.location);\n",
    "\n",
    "b1 = BBank();\n",
    "b1.display();\n",
    "b1.display2()"
   ]
  },
  {
   "cell_type": "code",
   "execution_count": null,
   "id": "0b7944a4",
   "metadata": {},
   "outputs": [],
   "source": [
    "# Single Inheritance\n",
    "#Multiple Inheritance\n",
    "#Multilevel Inheritance\n",
    "#Chain Inheritance "
   ]
  },
  {
   "cell_type": "markdown",
   "id": "45635bcf",
   "metadata": {},
   "source": [
    "## Function Overloading"
   ]
  },
  {
   "cell_type": "code",
   "execution_count": 14,
   "id": "17938fea",
   "metadata": {},
   "outputs": [
    {
     "name": "stdout",
     "output_type": "stream",
     "text": [
      "My Name is: Bibash\n",
      "My son name is Bigyan\n"
     ]
    }
   ],
   "source": [
    "### Example of Function Overloading\n",
    "\n",
    "class Person: \n",
    "    name1 = \"Bibash\"\n",
    "    def display(self):\n",
    "        print(\"My Name is:\", self.name1)\n",
    "\n",
    "class Son(Person):\n",
    "    name = \"Bigyan\"\n",
    "    def display(self):\n",
    "        super().display();\n",
    "        print(\"My son name is\", self.name);\n",
    "\n",
    "\n",
    "\n",
    "s1 = Son();\n",
    "s1.display();"
   ]
  },
  {
   "cell_type": "markdown",
   "id": "d25a0ac7",
   "metadata": {},
   "source": [
    "### Example of Muli level Inheritance\n"
   ]
  },
  {
   "cell_type": "code",
   "execution_count": 16,
   "id": "668d204c",
   "metadata": {},
   "outputs": [
    {
     "name": "stdout",
     "output_type": "stream",
     "text": [
      "Hi, My Name is Bibash\n",
      "You can add me using 503\n",
      "Mero KD yeti cha 4\n",
      "Mero Headshor rate yeti cha 30\n"
     ]
    }
   ],
   "source": [
    "### Multip Level Inheritance\n",
    "\n",
    "class Person:\n",
    "    def __init__(self,name,id):\n",
    "        self.name = name;\n",
    "        self.id = id;\n",
    "\n",
    "    def display(self):\n",
    "        print(\"Hi, My Name is\", self.name)\n",
    "        print(\"You can add me using\", self.id)\n",
    "\n",
    "class Player(Person):\n",
    "    def __init__(self,name,id,KD):\n",
    "        super().__init__(name,id)\n",
    "        self.KD = KD;\n",
    "\n",
    "    def display(self):\n",
    "        super().display();\n",
    "        print(\"Mero KD yeti cha\", self.KD);\n",
    "\n",
    "class Infortera(Player):\n",
    "    def __init__(self, name,id, KD,Headshotrate):\n",
    "        super().__init__(name,id, KD);\n",
    "        self.Headshotrate = Headshotrate;\n",
    "\n",
    "    def display(self):\n",
    "        super().display();\n",
    "        print(\"Mero Headshor rate yeti cha\", self.Headshotrate);\n",
    "\n",
    "p1 = Infortera(\"Bibash\", 503, 4, 30)\n",
    "p1.display();\n",
    "\n",
    "\n"
   ]
  },
  {
   "cell_type": "markdown",
   "id": "fd8765db",
   "metadata": {},
   "source": [
    "#### Questions related to multilevel inheritance"
   ]
  },
  {
   "cell_type": "code",
   "execution_count": 18,
   "id": "12956870",
   "metadata": {},
   "outputs": [
    {
     "name": "stdout",
     "output_type": "stream",
     "text": [
      "The brand of the vehicle is: Toyota\n",
      "The model of the vehicle is: 505\n",
      "The fuel type of the car is: Electric\n",
      "The battery capacity of the electric car is 5000\n"
     ]
    }
   ],
   "source": [
    "\"\"\"1. Vehicle → Car → ElectricCar\n",
    "Problem:\n",
    "Create a class Vehicle with attributes brand and model.\n",
    "Then create a class Car that adds the attribute fuel_type, and a class ElectricCar that adds the attribute battery_capacity.\n",
    "\n",
    "Tasks:\n",
    "\n",
    "Define a method display() in each class.\n",
    "\n",
    "Create an object of ElectricCar and display all information.\"\"\"\n",
    "\n",
    "class vehicle: \n",
    "    def __init__(self,brand,model):\n",
    "        self.brand = brand;\n",
    "        self.model = model;\n",
    "\n",
    "    def display(self):\n",
    "        print(\"The brand of the vehicle is:\", self.brand)\n",
    "        print(\"The model of the vehicle is:\", self.model)\n",
    "\n",
    "class Car(vehicle):\n",
    "    def __init__(self,brand,model,fuel_type):\n",
    "        super().__init__(brand,model)\n",
    "        self.fuel_type = fuel_type;\n",
    "\n",
    "    def display(self):\n",
    "        super().display();\n",
    "        print(\"The fuel type of the car is:\", self.fuel_type);\n",
    "    \n",
    "\n",
    "class Electriccar(Car):\n",
    "    def __init__(self,brand,model,fuel_type,battery):\n",
    "        super().__init__(brand,model,fuel_type)\n",
    "        self.battery = battery;\n",
    "\n",
    "    def display(self):\n",
    "        super().display();\n",
    "        print(\"The battery capacity of the electric car is\", self.battery);\n",
    "\n",
    "e1 = Electriccar(\"Toyota\", 505, \"Electric\", 5000)\n",
    "e1.display();\n"
   ]
  },
  {
   "cell_type": "code",
   "execution_count": 28,
   "id": "125dda11",
   "metadata": {},
   "outputs": [
    {
     "name": "stdout",
     "output_type": "stream",
     "text": [
      "Dog Barks\n",
      "Dog has Thick fur\n",
      "Dog can breed\n"
     ]
    }
   ],
   "source": [
    "\"\"\"2. Animal → Mammal → Dog\n",
    "Problem:\n",
    "Define a class Animal with a method sound() that prints a general message.\n",
    "Then, Mammal inherits Animal and adds has_fur.\n",
    "Finally, Dog inherits Mammal and adds breed.\n",
    "\n",
    "Tasks:\n",
    "\n",
    "Override the sound() method in Dog.\n",
    "\n",
    "Create a Dog object and demonstrate method overriding with multilevel inheritance.\n",
    "\n",
    "\"\"\"\n",
    "\n",
    "class Animal:\n",
    "    def __init__(self,make_sound):\n",
    "        self.make_sound = make_sound;\n",
    "\n",
    "    def make_sound_type(self):\n",
    "        print(\"Dog\",self.make_sound)\n",
    "\n",
    "class Mammal(Animal):\n",
    "    def __init__(self,make_sound, has_fur):\n",
    "        super().__init__(make_sound)\n",
    "        self.has_fur = has_fur;\n",
    "\n",
    "    def display(self):\n",
    "        super().make_sound_type();\n",
    "        print(\"Dog has\", self.has_fur,\"fur\");\n",
    "\n",
    "class Dog(Mammal):\n",
    "    def __init__(self,make_sound, has_fur, breed):\n",
    "        super().__init__(make_sound, has_fur)\n",
    "        self.breed = breed;\n",
    "\n",
    "    def display(self):\n",
    "        super().display();\n",
    "        print(\"Dog can\", self.breed);\n",
    "\n",
    "d1 = Dog(\"Barks\", \"Thick\", \"breed\")\n",
    "d1.display();"
   ]
  },
  {
   "cell_type": "code",
   "execution_count": null,
   "id": "9869a365",
   "metadata": {},
   "outputs": [],
   "source": [
    "\"\"\"3. Employee → Developer → TeamLead\n",
    "Problem:\n",
    "Define a class Employee with name and id.\n",
    "Developer adds language.\n",
    "TeamLead adds team_size.\n",
    "\n",
    "Tasks:\n",
    "\n",
    "Use super() to reuse constructors.\n",
    "\n",
    "\n",
    "Create a TeamLead object and call its display() method to show all attributes.\"\"\"\n",
    "\n",
    "class Employee:\n"
   ]
  },
  {
   "cell_type": "markdown",
   "id": "90ab83b8",
   "metadata": {},
   "source": [
    "### Multiple Inheritance\n"
   ]
  },
  {
   "cell_type": "code",
   "execution_count": 35,
   "id": "958c8119",
   "metadata": {},
   "outputs": [
    {
     "name": "stdout",
     "output_type": "stream",
     "text": [
      "Name: Rabbit\n",
      "ID: 505\n",
      "Game: CS\n",
      "Faculty: BIT\n"
     ]
    }
   ],
   "source": [
    "### Example of multiple inheritance\n",
    "\n",
    "class Person:\n",
    "    def __init__(self,name,id):\n",
    "        self.n = name;\n",
    "        self.id = id;\n",
    "\n",
    "    def show_i(self):\n",
    "        print(\"Name:\", self.n)\n",
    "        print(\"ID:\", self.id)\n",
    "\n",
    "class Game:\n",
    "    def __init__(self, game):\n",
    "        self.game = game;\n",
    "    def show_i(self):\n",
    "        print(\"Game:\", self.game)\n",
    "\n",
    "class student(Person, Game):\n",
    "    def __init__(self, name,id, game, faculty):\n",
    "        self.f = faculty\n",
    "        Person.__init__(self,name,id)\n",
    "        Game.__init__(self,game)\n",
    "\n",
    "    def show_i(self):\n",
    "      \n",
    "        Person.show_i(self)\n",
    "        Game.show_i(self)\n",
    "        print(\"Faculty:\", self.f)\n",
    "s1 = student(\"Rabbit\", 505, \"CS\", \"BIT\")\n",
    "s1.show_i()"
   ]
  },
  {
   "cell_type": "code",
   "execution_count": 4,
   "id": "92a3f402",
   "metadata": {},
   "outputs": [
    {
     "name": "stdout",
     "output_type": "stream",
     "text": [
      "Name: Bibash\n",
      "ID: 505\n",
      "Country: Nepal\n",
      "Faculty BIT\n"
     ]
    }
   ],
   "source": [
    "\"\"\"Question:\n",
    "Create a new class Address that has city and country as data members. Then, modify the student class to inherit from Person, \n",
    "Game, and Address. Ensure all information is displayed using show_i().\n",
    "\n",
    "\"\"\"\n",
    "class Person:\n",
    "    def __init__(self, name, id):\n",
    "        self.name = name;\n",
    "        self.id = id;\n",
    "\n",
    "    def show_i(self):\n",
    "        print(\"Name:\", self.name)\n",
    "        print(\"ID:\", self.id)\n",
    "\n",
    "class Address:\n",
    "    def __init__(self, city, country):\n",
    "        self.city = city;\n",
    "        self.country = country\n",
    "\n",
    "    def show_i(self):\n",
    "        print(\"Country:\",self.country)\n",
    "\n",
    "class student(Person, Address):\n",
    "    def __init__(self,name,id,city,country,faculty):\n",
    "        Person.__init__(self,name,id)\n",
    "        Address.__init__(self,city,country)\n",
    "        self.faculty = faculty\n",
    "\n",
    "    def show_i(self):\n",
    "        Person.show_i(self)\n",
    "        Address.show_i(self)\n",
    "        print(\"Faculty\", self.faculty)\n",
    "\n",
    "s1 = student(\"Bibash\", 505, \"Bhaktapur\", \"Nepal\", \"BIT\")\n",
    "s1.show_i()\n",
    "    \n"
   ]
  },
  {
   "cell_type": "markdown",
   "id": "bbc1a22b",
   "metadata": {},
   "source": [
    "#### Polymorphism : Method Overriding and Operator Overriding"
   ]
  },
  {
   "cell_type": "code",
   "execution_count": 40,
   "id": "096bf3ae",
   "metadata": {},
   "outputs": [
    {
     "name": "stdout",
     "output_type": "stream",
     "text": [
      "My Name is: Rabbit\n"
     ]
    }
   ],
   "source": [
    "### Method Overriding\n",
    "\n",
    "class Person:\n",
    "    name = \"Rabbit\"\n",
    "    def show(self):\n",
    "        print(\"My Name is:\", self.name)\n",
    "\n",
    "class Person2(Person):\n",
    "    name = \"Jiru\"\n",
    "    def show(self):\n",
    "        print(\"My friend name is:\", self.name)\n",
    "\n",
    "p1 = Person()\n",
    "p1.show()\n"
   ]
  },
  {
   "cell_type": "code",
   "execution_count": 8,
   "id": "afb78976",
   "metadata": {},
   "outputs": [
    {
     "name": "stdout",
     "output_type": "stream",
     "text": [
      "Name: Bigyan\n",
      "Name: Bibash\n"
     ]
    }
   ],
   "source": [
    "\"\"\"1. Call Base Class Method from Derived Class\n",
    "Question:\n",
    "Modify the Person2 class so that it calls the show() method of the base class Person in addition to its own message. Use super() for this.\"\"\"\n",
    "\n",
    "class Person:\n",
    "    name1 = \"Bibash\"\n",
    "    def show(self):\n",
    "        print(\"Name:\", self.name1)\n",
    "\n",
    "class Son(Person):\n",
    "    name2 = \"Bigyan\"\n",
    "    def show(self):\n",
    "        print(\"Name:\", self.name2)\n",
    "        super().show()\n",
    "\n",
    "s1 = Son()\n",
    "s1.show()\n",
    "\n"
   ]
  },
  {
   "cell_type": "code",
   "execution_count": 14,
   "id": "ff7de0c6",
   "metadata": {},
   "outputs": [
    {
     "name": "stdout",
     "output_type": "stream",
     "text": [
      "The value in x-coordinate is 8\n",
      "The value in y-coordinate is 10\n"
     ]
    }
   ],
   "source": [
    "### Operator Overloading\n",
    "\n",
    "class coordinate():\n",
    "    def __init__(self,x,y):\n",
    "        self.x = x\n",
    "        self.y = y\n",
    "    \n",
    "    def __add__(self,other):\n",
    "        return coordinate(self.x + other.x , self.y+other.y)\n",
    "    \n",
    "    def print(self):\n",
    "        print(\"The value in x-coordinate is\", self.x)\n",
    "        print(\"The value in y-coordinate is\", self.y)\n",
    "\n",
    "\n",
    "    \n",
    "c1 = coordinate(5,6)\n",
    "c2 = coordinate(3,4)\n",
    "\n",
    "c3 = c1+c2\n",
    "\n",
    "c3.print()\n",
    "\n",
    "    "
   ]
  },
  {
   "cell_type": "code",
   "execution_count": 20,
   "id": "dddaeb0d",
   "metadata": {},
   "outputs": [
    {
     "name": "stdout",
     "output_type": "stream",
     "text": [
      "The value in x-coordinate is: 1\n",
      "The value in y-coordinate is 1\n"
     ]
    }
   ],
   "source": [
    "\"\"\"1. Overload the - Operator\n",
    "Question:\n",
    "Modify the coordinate class to support subtraction using the - operator (i.e., overload the __sub__() method).\n",
    " Then create two objects and print the result of their subtraction.\"\"\"\n",
    "\n",
    "class coordinate:\n",
    "    def __init__(self, x,y):\n",
    "        self.x = x;\n",
    "        self.y = y\n",
    "\n",
    "    def __sub__(self,other):\n",
    "        return coordinate(self.x - other.x, self.y - other.y)\n",
    "    \n",
    "    def print(self):\n",
    "        print(\"The value in x-coordinate is:\", self.x)\n",
    "        print(\"The value in y-coordinate is\", self.y)\n",
    "\n",
    "c1 = coordinate(5,6)\n",
    "c2 = coordinate(4,5)\n",
    "\n",
    "c3 = c1-c2\n",
    "\n",
    "c3.print()"
   ]
  },
  {
   "cell_type": "code",
   "execution_count": 22,
   "id": "0e19fdb8",
   "metadata": {},
   "outputs": [
    {
     "name": "stdout",
     "output_type": "stream",
     "text": [
      "Is x equal to another value True\n",
      "Is y equal to the other value True\n"
     ]
    }
   ],
   "source": [
    "\"\"\"2. Overload the == Operator\n",
    "Question:\n",
    "Add an __eq__() method to the coordinate class to compare \n",
    "whether two coordinate objects have the same x and y values. Test it with two objects having identical values and print whether they are equal\"\"\"\n",
    "\n",
    "class coordinate:\n",
    "    def __init__(self, x , y):\n",
    "        self.x = x;\n",
    "        self.y = y\n",
    "    \n",
    "    def __eq__(self, other):\n",
    "        return coordinate(self.x==other.x, self.y==other.y)\n",
    "    \n",
    "    def print(self):\n",
    "        print(\"Is x equal to another value\", self.x)\n",
    "        print(\"Is y equal to the other value\", self.y)\n",
    "\n",
    "c1 = coordinate(5,44);\n",
    "c2 = coordinate(5,44)\n",
    "c3 = c1 == c2\n",
    "c3.print()\n"
   ]
  },
  {
   "cell_type": "markdown",
   "id": "7609b081",
   "metadata": {},
   "source": [
    "### Managing Errors and Debugging"
   ]
  },
  {
   "cell_type": "code",
   "execution_count": null,
   "id": "7504671d",
   "metadata": {},
   "outputs": [],
   "source": [
    "# Types of Errors\n",
    "\n",
    "### Syntax Error\n",
    "### Logical Error\n",
    "### Runtime Error\n",
    "      #--- Nametype Error\n",
    "      #--- Value Error\n",
    "      #--- Runtime Error\n",
    "     \n",
    "      "
   ]
  },
  {
   "cell_type": "code",
   "execution_count": 1,
   "id": "8d6bba54",
   "metadata": {},
   "outputs": [
    {
     "name": "stdout",
     "output_type": "stream",
     "text": [
      "denominator cannot be zero\n"
     ]
    }
   ],
   "source": [
    "### Try and except for handling zero division error in runtime\n",
    "a = 5\n",
    "b = 0\n",
    "try:\n",
    "    div = a/b\n",
    "    print(div)\n",
    "except:\n",
    "    print(\"denominator cannot be zero\");\n"
   ]
  },
  {
   "cell_type": "code",
   "execution_count": 5,
   "id": "366a78d8",
   "metadata": {},
   "outputs": [
    {
     "name": "stdout",
     "output_type": "stream",
     "text": [
      "The value cannot be string and other data types\n"
     ]
    }
   ],
   "source": [
    "### Try and except for handling error\n",
    "\n",
    "\n",
    "\n",
    "try:\n",
    "    \n",
    "    a = int(input(\"Enter the number\"));\n",
    "    b = int(input(\"Enter the second number\"));\n",
    "    c = a/b\n",
    "    print(c)\n",
    "\n",
    "except ZeroDivisionError:\n",
    "    print(\"Denominator b cannot be zero\")\n",
    "\n",
    "except ValueError:\n",
    "    print(\"The value cannot be string and other data types\")\n",
    "\n"
   ]
  },
  {
   "cell_type": "code",
   "execution_count": 6,
   "id": "3da75570",
   "metadata": {},
   "outputs": [
    {
     "name": "stdout",
     "output_type": "stream",
     "text": [
      "0.6666666666666666\n",
      "execution completed\n"
     ]
    }
   ],
   "source": [
    "#### Try, except and finally for handling error\n",
    "\n",
    "try:\n",
    "    a = int(input(\"enter the first number\"))\n",
    "    b = int(input(\"enter the second number\"))\n",
    "    c = a/b\n",
    "    print(c)\n",
    "\n",
    "except:\n",
    "    print(\"denominator cannot be zero\")\n",
    "\n",
    "finally:\n",
    "    print(\"execution completed\")\n",
    "\n"
   ]
  },
  {
   "cell_type": "code",
   "execution_count": null,
   "id": "4abf7fc4",
   "metadata": {},
   "outputs": [
    {
     "ename": "ValueError",
     "evalue": "Age cannot be negative",
     "output_type": "error",
     "traceback": [
      "\u001b[31m---------------------------------------------------------------------------\u001b[39m",
      "\u001b[31mValueError\u001b[39m                                Traceback (most recent call last)",
      "\u001b[36mCell\u001b[39m\u001b[36m \u001b[39m\u001b[32mIn[10]\u001b[39m\u001b[32m, line 5\u001b[39m\n\u001b[32m      3\u001b[39m age = \u001b[38;5;28mint\u001b[39m(\u001b[38;5;28minput\u001b[39m(\u001b[33m\"\u001b[39m\u001b[33mEnter your age:\u001b[39m\u001b[33m\"\u001b[39m))\n\u001b[32m      4\u001b[39m \u001b[38;5;28;01mif\u001b[39;00m age<\u001b[32m0\u001b[39m:\n\u001b[32m----> \u001b[39m\u001b[32m5\u001b[39m     \u001b[38;5;28;01mraise\u001b[39;00m \u001b[38;5;167;01mValueError\u001b[39;00m(\u001b[33m\"\u001b[39m\u001b[33mAge cannot be negative\u001b[39m\u001b[33m\"\u001b[39m)\n",
      "\u001b[31mValueError\u001b[39m: Age cannot be negative"
     ]
    }
   ],
   "source": [
    "### Raise for handling error\n",
    "# age = 5\n",
    "age = int(input(\"Enter your age:\"))\n",
    "if age<0:\n",
    "    raise ValueError(\"Age cannot be negative\")\n"
   ]
  },
  {
   "cell_type": "code",
   "execution_count": 11,
   "id": "39756138",
   "metadata": {},
   "outputs": [
    {
     "name": "stdout",
     "output_type": "stream",
     "text": [
      "The number is not valid. Enter Again\n",
      "The number is not valid. Enter Again\n",
      "The number is not valid. Enter Again\n",
      "The number is not valid. Enter Again\n",
      "The number is not valid. Enter Again\n",
      "The number is not valid. Enter Again\n",
      "The number is not valid. Enter Again\n"
     ]
    }
   ],
   "source": [
    "### Validation in Error Handling\n",
    "\n",
    "while True:\n",
    "    try:\n",
    "        a= int(input(\"enter a number\"))\n",
    "        break\n",
    "    except ValueError:\n",
    "        print(\"The number is not valid. Enter Again\")\n",
    "        "
   ]
  },
  {
   "cell_type": "code",
   "execution_count": null,
   "id": "db0edc89",
   "metadata": {},
   "outputs": [],
   "source": []
  }
 ],
 "metadata": {
  "kernelspec": {
   "display_name": "Python 3",
   "language": "python",
   "name": "python3"
  },
  "language_info": {
   "codemirror_mode": {
    "name": "ipython",
    "version": 3
   },
   "file_extension": ".py",
   "mimetype": "text/x-python",
   "name": "python",
   "nbconvert_exporter": "python",
   "pygments_lexer": "ipython3",
   "version": "3.13.4"
  }
 },
 "nbformat": 4,
 "nbformat_minor": 5
}
