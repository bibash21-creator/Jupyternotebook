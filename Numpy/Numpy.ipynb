{
 "cells": [
  {
   "cell_type": "code",
   "execution_count": 1,
   "id": "a7755310-d1d1-4e73-a440-128a101cebf6",
   "metadata": {},
   "outputs": [
    {
     "name": "stdout",
     "output_type": "stream",
     "text": [
      "Requirement already satisfied: numpy in e:\\anaconda lab\\lib\\site-packages (1.26.4)\n",
      "Note: you may need to restart the kernel to use updated packages.\n"
     ]
    }
   ],
   "source": [
    "pip install numpy"
   ]
  },
  {
   "cell_type": "code",
   "execution_count": 3,
   "id": "d07bb850-47be-4372-99dd-0e777996505b",
   "metadata": {},
   "outputs": [
    {
     "name": "stdout",
     "output_type": "stream",
     "text": [
      "[1 2 3 4 5]\n"
     ]
    }
   ],
   "source": [
    "import numpy as np\n",
    "\n",
    "x = np.array([1, 2, 3, 4, 5])\n",
    "print(x)\n",
    "\n",
    "\n"
   ]
  },
  {
   "cell_type": "code",
   "execution_count": 4,
   "id": "44be60ee-c063-45a4-b17d-d8fdd54ceb83",
   "metadata": {},
   "outputs": [
    {
     "name": "stdout",
     "output_type": "stream",
     "text": [
      "4\n"
     ]
    }
   ],
   "source": [
    "# Indexing in the numpy\n",
    "\n",
    "print(x[3])"
   ]
  },
  {
   "cell_type": "code",
   "execution_count": 11,
   "id": "7d426884-fe0b-4f57-a9c5-8e80729e30a7",
   "metadata": {},
   "outputs": [
    {
     "name": "stdout",
     "output_type": "stream",
     "text": [
      "[1 2 3]\n",
      "[1 2 3]\n",
      "[4]\n"
     ]
    }
   ],
   "source": [
    "# Slicing the array in the numpy\n",
    "\n",
    "print(x[0:3])\n",
    "print(x[:3])\n",
    "print(x[3:-1])"
   ]
  },
  {
   "cell_type": "code",
   "execution_count": 25,
   "id": "c049d900-97ab-481a-8fb1-4c9b01280063",
   "metadata": {},
   "outputs": [
    {
     "name": "stdout",
     "output_type": "stream",
     "text": [
      "[1 2 6 4 5]\n"
     ]
    }
   ],
   "source": [
    "# Copying the elements of array x to array y\n",
    "\n",
    "y = x[0:3]\n",
    "y\n",
    "y[2] = 6\n",
    "print(x)\n",
    "\n",
    "\n",
    "\n"
   ]
  },
  {
   "cell_type": "code",
   "execution_count": 26,
   "id": "2458ab39-d1e8-433f-97f0-57157fcbd7e0",
   "metadata": {},
   "outputs": [
    {
     "name": "stdout",
     "output_type": "stream",
     "text": [
      "[1 2 3]\n",
      "[1 2 6 4 5]\n"
     ]
    }
   ],
   "source": [
    "y = x[0:3].copy()\n",
    "y\n",
    "y[2] = 3\n",
    "print(y)\n",
    "\n",
    "print(x)"
   ]
  },
  {
   "cell_type": "code",
   "execution_count": null,
   "id": "7482215f-67fe-4636-aac5-110e6e960afc",
   "metadata": {},
   "outputs": [],
   "source": [
    "# Attributes\n",
    "\n",
    "Shape\n",
    "size\n",
    "ndim \n",
    "dtype\n"
   ]
  },
  {
   "cell_type": "code",
   "execution_count": 30,
   "id": "bc940f8d-b5ca-4f59-a3d2-53ca70e962ec",
   "metadata": {},
   "outputs": [
    {
     "name": "stdout",
     "output_type": "stream",
     "text": [
      "(5,)\n"
     ]
    }
   ],
   "source": [
    "\n",
    "print(x.shape)"
   ]
  },
  {
   "cell_type": "code",
   "execution_count": 33,
   "id": "a81cdf7c-f4f9-44f3-a472-3891cd980222",
   "metadata": {},
   "outputs": [
    {
     "name": "stdout",
     "output_type": "stream",
     "text": [
      "5\n"
     ]
    }
   ],
   "source": [
    "print(x.size)"
   ]
  },
  {
   "cell_type": "code",
   "execution_count": 34,
   "id": "a15f5bd0-d158-48c1-ad74-a86f470158dc",
   "metadata": {},
   "outputs": [
    {
     "name": "stdout",
     "output_type": "stream",
     "text": [
      "1\n"
     ]
    }
   ],
   "source": [
    "print(x.ndim)"
   ]
  },
  {
   "cell_type": "code",
   "execution_count": 40,
   "id": "0599b543-d271-4e90-926e-fae3db4e0738",
   "metadata": {},
   "outputs": [
    {
     "name": "stdout",
     "output_type": "stream",
     "text": [
      "[[5 6 7]\n",
      " [8 9 0]]\n",
      "(2, 3)\n",
      "6\n"
     ]
    }
   ],
   "source": [
    "z = np.array([[5,6,7], [8,9,0]])\n",
    "print(z)\n",
    "print(z.shape)\n",
    "print(z.size)"
   ]
  },
  {
   "cell_type": "code",
   "execution_count": 47,
   "id": "ce31c7e2-cf89-49da-8851-97a0422523ee",
   "metadata": {},
   "outputs": [
    {
     "name": "stdout",
     "output_type": "stream",
     "text": [
      "240\n",
      "35\n",
      "3.6\n",
      "1.8547236990991407\n",
      "4.0\n"
     ]
    }
   ],
   "source": [
    "print(np.prod(x))\n",
    "\n",
    "print(np.sum(z))\n",
    "\n",
    "print(np.mean(x))\n",
    "\n",
    "print(np.std(x))\n",
    "\n",
    "print(np.median(x))"
   ]
  }
 ],
 "metadata": {
  "kernelspec": {
   "display_name": "Python 3 (ipykernel)",
   "language": "python",
   "name": "python3"
  },
  "language_info": {
   "codemirror_mode": {
    "name": "ipython",
    "version": 3
   },
   "file_extension": ".py",
   "mimetype": "text/x-python",
   "name": "python",
   "nbconvert_exporter": "python",
   "pygments_lexer": "ipython3",
   "version": "3.12.7"
  }
 },
 "nbformat": 4,
 "nbformat_minor": 5
}
