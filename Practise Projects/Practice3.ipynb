{
 "cells": [
  {
   "cell_type": "markdown",
   "id": "36eb680d",
   "metadata": {},
   "source": [
    "# Practice Question Begins Here"
   ]
  },
  {
   "cell_type": "code",
   "execution_count": null,
   "id": "f3e13fce",
   "metadata": {},
   "outputs": [],
   "source": [
    "\"\"\"Question:\n",
    "\"Does temperature affect ice cream sales? \n",
    "Use linear regression to predict sales based on daily temperature.\"\n",
    "\"\"\""
   ]
  },
  {
   "cell_type": "code",
   "execution_count": 12,
   "id": "d0ef2a5b",
   "metadata": {},
   "outputs": [
    {
     "name": "stdout",
     "output_type": "stream",
     "text": [
      "-416.9120879120877\n",
      "[8.02197802]\n",
      "The sales that is observed here is: [184.73626374]\n",
      "[184.73626374 224.84615385 264.95604396 305.06593407 345.17582418\n",
      " 385.28571429 208.8021978  289.02197802 321.10989011 281.        ]\n"
     ]
    },
    {
     "data": {
      "image/png": "[encoded data removed]",
      "text/plain": [
       "<Figure size 640x480 with 1 Axes>"
      ]
     },
     "metadata": {},
     "output_type": "display_data"
    },
    {
     "name": "stdout",
     "output_type": "stream",
     "text": [
      "The value of the mean square error is 95.37362637362615\n",
      "The predicted value of y is: [184.73626374 224.84615385 264.95604396 305.06593407 345.17582418\n",
      " 385.28571429 208.8021978  289.02197802 321.10989011 281.        ]\n",
      "The actual value for which y should be at is 0    200\n",
      "1    230\n",
      "2    250\n",
      "3    300\n",
      "4    350\n",
      "5    400\n",
      "6    210\n",
      "7    280\n",
      "8    320\n",
      "9    270\n",
      "Name: Sales, dtype: int64\n",
      "The error is found to be as 0    15.263736\n",
      "1     5.153846\n",
      "2   -14.956044\n",
      "3    -5.065934\n",
      "4     4.824176\n",
      "5    14.714286\n",
      "6     1.197802\n",
      "7    -9.021978\n",
      "8    -1.109890\n",
      "9   -11.000000\n",
      "Name: Sales, dtype: float64\n",
      "The squared value of error is: 0    232.981645\n",
      "1     26.562130\n",
      "2    223.683251\n",
      "3     25.663688\n",
      "4     23.272672\n",
      "5    216.510204\n",
      "6      1.434730\n",
      "7     81.396087\n",
      "8      1.231856\n",
      "9    121.000000\n",
      "Name: Sales, dtype: float64\n",
      "('The mean value eror is:', np.float64(95.37362637362615))\n",
      "The mean value error is: 95.37\n"
     ]
    }
   ],
   "source": [
    "#Importing the simple linear regression value\n",
    "from sklearn.linear_model import LinearRegression\n",
    "\n",
    "#Importing the pandas libraries\n",
    "import pandas as pd\n",
    "\n",
    "#Importing the matplotlib for diagram\n",
    "import matplotlib.pyplot as plt\n",
    "\n",
    "#Loading the dataset\n",
    "df = pd.read_csv('temp_vs_icecream_sales.csv')\n",
    "df.head()\n",
    "\n",
    "#Separating the values of x and y\n",
    "x = df[['Temperature']]\n",
    "y = df['Sales']\n",
    "#assigning the models\n",
    "model = LinearRegression()\n",
    "model.fit(x,y)\n",
    "\n",
    "#Calculating the values of a and b for prediction\n",
    "a = model.intercept_\n",
    "print(a)\n",
    "b = model.coef_\n",
    "print(b)\n",
    "\n",
    "#Predicting the values of Sales using the temperature as input varaible\n",
    "sales = a + b*df['Temperature'][0]\n",
    "print(\"The sales that is observed here is:\", sales)\n",
    "\n",
    "#Sketching it in diagram\n",
    "y_predicate = model.predict(x)\n",
    "print(y_predicate)\n",
    "plt.scatter( df['Temperature'],df['Sales'])\n",
    "plt.plot(df['Temperature'], y_predicate)\n",
    "plt.show()\n",
    "\n",
    "# Finding errors in the model\n",
    "from sklearn.metrics import mean_squared_error\n",
    "\n",
    "mse = mean_squared_error(y,y_predicate)\n",
    "print(\"The value of the mean square error is\",mse)\n",
    "\n",
    "# Behind the scene of  Mean Square Error\n",
    "\n",
    "print(\"The predicted value of y is:\", y_predicate)\n",
    "print(\"The actual value for which y should be at is\", y)\n",
    "\n",
    "error = y - y_predicate\n",
    "print(\"The error is found to be as\",error)\n",
    "\n",
    "error_squared = error*error\n",
    "print(\"The squared value of error is:\", error_squared)\n",
    "\n",
    "mse2 = error_squared.mean()\n",
    "print((\"The mean value eror is:\", mse2))\n",
    "print(f\"The mean value error is: {mse2:.2f}\")\n",
    "\n",
    "\n"
   ]
  },
  {
   "cell_type": "markdown",
   "id": "eff2686a",
   "metadata": {},
   "source": [
    "# Finding Error in the Model"
   ]
  },
  {
   "cell_type": "code",
   "execution_count": null,
   "id": "6b9fde89",
   "metadata": {},
   "outputs": [],
   "source": [
    "\"\"\"Using Mean Square Error Concept\"\"\""
   ]
  }
 ],
 "metadata": {
  "kernelspec": {
   "display_name": "Python 3",
   "language": "python",
   "name": "python3"
  },
  "language_info": {
   "codemirror_mode": {
    "name": "ipython",
    "version": 3
   },
   "file_extension": ".py",
   "mimetype": "text/x-python",
   "name": "python",
   "nbconvert_exporter": "python",
   "pygments_lexer": "ipython3",
   "version": "3.13.5"
  }
 },
 "nbformat": 4,
 "nbformat_minor": 5
}
