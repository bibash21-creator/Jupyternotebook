{
 "cells": [
  {
   "cell_type": "markdown",
   "id": "4d7be98e",
   "metadata": {},
   "source": [
    "# Practice Questions Begins Here"
   ]
  },
  {
   "cell_type": "code",
   "execution_count": null,
   "id": "2e504e8e",
   "metadata": {},
   "outputs": [],
   "source": [
    "\"\"\"Question: \n",
    "\"Does the number of hours studied affect a student's exam score? Build a simple linear regression model \n",
    "to predict exam scores \n",
    "based on study hours using a given dataset.\"\n",
    "\"\"\"\n",
    "\n",
    "\n",
    "\n"
   ]
  },
  {
   "cell_type": "markdown",
   "id": "058c7d41",
   "metadata": {},
   "source": [
    "##### Solution"
   ]
  },
  {
   "cell_type": "code",
   "execution_count": 2,
   "id": "ca59a5af",
   "metadata": {},
   "outputs": [
    {
     "name": "stdout",
     "output_type": "stream",
     "text": [
      "   Hours  Scores\n",
      "0    2.5      21\n",
      "1    5.1      47\n",
      "2    3.2      27\n",
      "3    8.5      75\n",
      "4    3.5      30\n",
      "3.0312830386057854\n",
      "[9.52038609]\n",
      "Students can score the following marks as [26.83224828 51.58525212 33.49651854 83.95456485 36.35263437 17.31186218\n",
      " 90.61883511 55.39340656 82.05048763 28.73632549 76.33825597 59.201561\n",
      " 45.87302047 34.44855715 13.50370774 87.76271928 26.83224828 21.12001662\n",
      " 61.10563822 73.48214014]\n"
     ]
    },
    {
     "data": {
      "image/png": "[encoded data removed]",
      "text/plain": [
       "<Figure size 640x480 with 1 Axes>"
      ]
     },
     "metadata": {},
     "output_type": "display_data"
    }
   ],
   "source": [
    "#importing necessary libraries using scikit-learn\n",
    "from sklearn.linear_model import LinearRegression\n",
    "\n",
    "#importing pandas library\n",
    "import pandas as pd\n",
    "\n",
    "#Loading the dataset\n",
    "data = pd.read_csv(\"studentperformance.csv\")\n",
    "print(data.head())\n",
    "\n",
    "#Splitting the dataset into features and target variable\n",
    "x = data[['Hours']]   #Here X should be dataframe\n",
    "\n",
    "y = data['Scores']    #Y should be series \n",
    "\n",
    "#Defining the model\n",
    "\n",
    "model = LinearRegression();\n",
    "\n",
    "#Using the predefined fit() to solve simple linear questionairees\n",
    "model.fit(x,y)\n",
    "\n",
    "#Finding the intercept and coefficient value to make further prediction\n",
    "a = model.intercept_  #This value   is used to compute the future predictions in model\n",
    "print(a)\n",
    "\n",
    "b=model.coef_   #This value works as dependent value to x\n",
    "print(b)\n",
    "\n",
    "#Using Simple Linear Regression Formula\n",
    "\n",
    "\"\"\"y=a+bx\n",
    "where y is Scores here and b is Hours\"\"\"\n",
    "\n",
    "# Scores = a + b*data['Hours'][0]\n",
    "# print(Scores)\n",
    "\n",
    "\"\"\"Using predict() function using the model made\"\"\"\n",
    "scores = model.predict(x)\n",
    "print(\"Students can score the following marks as\", scores)\n",
    "\n",
    "\n",
    "\n",
    "ypredicate = model.predict(x)\n",
    "ypredicate\n",
    "#Drawing Scatter plot for this data values\n",
    "import matplotlib.pyplot as plt\n",
    "\n",
    "plt.scatter(data['Hours'], data['Scores'])\n",
    "plt.plot(data['Hours'], ypredicate, color='red')\n",
    "plt.xlabel('Hours')\n",
    "plt.ylabel('Scores')\n",
    "plt.show()\n",
    "\n",
    "\n",
    "\n",
    "\n",
    "\n",
    "\n",
    "\n",
    "\n",
    "\n"
   ]
  },
  {
   "cell_type": "code",
   "execution_count": 8,
   "id": "e9d43309",
   "metadata": {},
   "outputs": [
    {
     "data": {
      "text/html": [
       "<div>\n",
       "<style scoped>\n",
       "    .dataframe tbody tr th:only-of-type {\n",
       "        vertical-align: middle;\n",
       "    }\n",
       "\n",
       "    .dataframe tbody tr th {\n",
       "        vertical-align: top;\n",
       "    }\n",
       "\n",
       "    .dataframe thead th {\n",
       "        text-align: right;\n",
       "    }\n",
       "</style>\n",
       "<table border=\"1\" class=\"dataframe\">\n",
       "  <thead>\n",
       "    <tr style=\"text-align: right;\">\n",
       "      <th></th>\n",
       "      <th>Hours</th>\n",
       "    </tr>\n",
       "  </thead>\n",
       "  <tbody>\n",
       "    <tr>\n",
       "      <th>0</th>\n",
       "      <td>100</td>\n",
       "    </tr>\n",
       "  </tbody>\n",
       "</table>\n",
       "</div>"
      ],
      "text/plain": [
       "   Hours\n",
       "0    100"
      ]
     },
     "execution_count": 8,
     "metadata": {},
     "output_type": "execute_result"
    }
   ],
   "source": [
    "# Using predict function directly\n",
    "\n",
    "to_pred = pd.DataFrame(\n",
    "    {\n",
    "        'Hours': [100]\n",
    "    }\n",
    ")\n",
    "\n",
    "to_pred"
   ]
  },
  {
   "cell_type": "code",
   "execution_count": 16,
   "id": "95044e55",
   "metadata": {},
   "outputs": [],
   "source": [
    "# salesss = model.predict([100])\n",
    "# print(salesss)"
   ]
  },
  {
   "cell_type": "markdown",
   "id": "ec9f5228",
   "metadata": {},
   "source": [
    "## Testing the above model"
   ]
  },
  {
   "cell_type": "code",
   "execution_count": 2,
   "id": "193e8bcc",
   "metadata": {},
   "outputs": [
    {
     "data": {
      "text/html": [
       "<div>\n",
       "<style scoped>\n",
       "    .dataframe tbody tr th:only-of-type {\n",
       "        vertical-align: middle;\n",
       "    }\n",
       "\n",
       "    .dataframe tbody tr th {\n",
       "        vertical-align: top;\n",
       "    }\n",
       "\n",
       "    .dataframe thead th {\n",
       "        text-align: right;\n",
       "    }\n",
       "</style>\n",
       "<table border=\"1\" class=\"dataframe\">\n",
       "  <thead>\n",
       "    <tr style=\"text-align: right;\">\n",
       "      <th></th>\n",
       "      <th>Hours</th>\n",
       "      <th>Scores</th>\n",
       "    </tr>\n",
       "  </thead>\n",
       "  <tbody>\n",
       "    <tr>\n",
       "      <th>0</th>\n",
       "      <td>2.5</td>\n",
       "      <td>21</td>\n",
       "    </tr>\n",
       "    <tr>\n",
       "      <th>1</th>\n",
       "      <td>5.1</td>\n",
       "      <td>47</td>\n",
       "    </tr>\n",
       "    <tr>\n",
       "      <th>2</th>\n",
       "      <td>3.2</td>\n",
       "      <td>27</td>\n",
       "    </tr>\n",
       "    <tr>\n",
       "      <th>3</th>\n",
       "      <td>8.5</td>\n",
       "      <td>75</td>\n",
       "    </tr>\n",
       "    <tr>\n",
       "      <th>4</th>\n",
       "      <td>3.5</td>\n",
       "      <td>30</td>\n",
       "    </tr>\n",
       "  </tbody>\n",
       "</table>\n",
       "</div>"
      ],
      "text/plain": [
       "   Hours  Scores\n",
       "0    2.5      21\n",
       "1    5.1      47\n",
       "2    3.2      27\n",
       "3    8.5      75\n",
       "4    3.5      30"
      ]
     },
     "execution_count": 2,
     "metadata": {},
     "output_type": "execute_result"
    }
   ],
   "source": [
    "data.head()"
   ]
  },
  {
   "cell_type": "markdown",
   "id": "61423bc5",
   "metadata": {},
   "source": [
    "# Finding the Error in the model"
   ]
  },
  {
   "cell_type": "code",
   "execution_count": null,
   "id": "ba7b2fd1",
   "metadata": {},
   "outputs": [
    {
     "name": "stdout",
     "output_type": "stream",
     "text": [
      "[26.83224828]\n",
      "The error  in this model in aboslute term is 4.90\n",
      "The error in this model is 28.48\n",
      "The percentage error in this model is: 0.12%\n"
     ]
    },
    {
     "name": "stderr",
     "output_type": "stream",
     "text": [
      "C:\\Users\\hp\\AppData\\Roaming\\Python\\Python313\\site-packages\\sklearn\\utils\\validation.py:2749: UserWarning: X does not have valid feature names, but LinearRegression was fitted with feature names\n",
      "  warnings.warn(\n"
     ]
    }
   ],
   "source": [
    "predicted = model.predict([[2.5]])\n",
    "print(predicted)\n",
    "\n",
    "\n",
    "# Finding the mean square error in the model\n",
    "from sklearn.metrics import mean_squared_error, mean_absolute_error, mean_absolute_percentage_error\n",
    "\n",
    "# Setting the data for testing and evaluation\n",
    "from sklearn.metrics import \n",
    "\n",
    "mse = mean_squared_error(y, ypredicate)\n",
    "mae = mean_absolute_error(y,ypredicate)\n",
    "mape = mean_absolute_percentage_error(y,ypredicate)\n",
    "print(f\"The error  in this model in aboslute term is {mae:.2f}\")\n",
    "print(f\"The error in this model is {mse:.2f}\")\n",
    "print(f\"The percentage error in this model is: {mape:.2f}%\")"
   ]
  }
 ],
 "metadata": {
  "kernelspec": {
   "display_name": "Python 3",
   "language": "python",
   "name": "python3"
  },
  "language_info": {
   "codemirror_mode": {
    "name": "ipython",
    "version": 3
   },
   "file_extension": ".py",
   "mimetype": "text/x-python",
   "name": "python",
   "nbconvert_exporter": "python",
   "pygments_lexer": "ipython3",
   "version": "3.13.5"
  }
 },
 "nbformat": 4,
 "nbformat_minor": 5
}
