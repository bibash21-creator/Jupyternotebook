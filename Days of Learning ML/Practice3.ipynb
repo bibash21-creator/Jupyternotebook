{
 "cells": [
  {
   "cell_type": "markdown",
   "id": "36eb680d",
   "metadata": {},
   "source": [
    "# Practice Question Begins Here"
   ]
  },
  {
   "cell_type": "code",
   "execution_count": null,
   "id": "f3e13fce",
   "metadata": {},
   "outputs": [],
   "source": [
    "\"\"\"Question:\n",
    "\"Does temperature affect ice cream sales? \n",
    "Use linear regression to predict sales based on daily temperature.\"\n",
    "\"\"\""
   ]
  },
  {
   "cell_type": "code",
   "execution_count": null,
   "id": "d0ef2a5b",
   "metadata": {},
   "outputs": [],
   "source": [
    "#Importing the simple linear regression value\n",
    "from sklearn.linear_model import LinearRegression\n",
    "\n",
    "#Importing the pandas libraries\n",
    "import pandas as pd\n",
    "\n",
    "#Importing the matplotlib for diagram\n",
    "import matplotlib.pyplot as plt\n",
    "\n",
    "#Loading the dataset\n"
   ]
  }
 ],
 "metadata": {
  "kernelspec": {
   "display_name": "Python 3",
   "language": "python",
   "name": "python3"
  },
  "language_info": {
   "name": "python",
   "version": "3.13.5"
  }
 },
 "nbformat": 4,
 "nbformat_minor": 5
}
