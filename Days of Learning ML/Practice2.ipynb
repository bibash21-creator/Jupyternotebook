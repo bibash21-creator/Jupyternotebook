{
 "cells": [
  {
   "cell_type": "markdown",
   "id": "3a5d967b",
   "metadata": {},
   "source": [
    "# Practice Questions Begin Here"
   ]
  },
  {
   "cell_type": "code",
   "execution_count": null,
   "id": "5053ee03",
   "metadata": {},
   "outputs": [],
   "source": [
    "\"\"\"Question:\n",
    "\n",
    "\"Can the area (in sq. ft.) of a house predict its price? \n",
    "Build a linear regression model to estimate house prices using area as the predictor.\"\"\"\n",
    "\n"
   ]
  },
  {
   "cell_type": "markdown",
   "id": "992fb6b7",
   "metadata": {},
   "source": [
    "#### Solution:"
   ]
  },
  {
   "cell_type": "code",
   "execution_count": 6,
   "id": "51b607ea",
   "metadata": {},
   "outputs": [
    {
     "name": "stdout",
     "output_type": "stream",
     "text": [
      "1534.1922695739777\n",
      "[200.19821606]\n",
      "The cost of the house for certain area is: 0    241772.051536\n",
      "1    301831.516353\n",
      "2    361890.981169\n",
      "3    401930.624381\n",
      "4    441970.267592\n",
      "5    502029.732408\n",
      "6    522049.554014\n",
      "7    602128.840436\n",
      "8    642168.483647\n",
      "9    702227.948464\n",
      "Name: Area, dtype: float64\n"
     ]
    },
    {
     "data": {
      "image/png": "[encoded data removed]",
      "text/plain": [
       "<Figure size 640x480 with 1 Axes>"
      ]
     },
     "metadata": {},
     "output_type": "display_data"
    },
    {
     "name": "stdout",
     "output_type": "stream",
     "text": [
      "The error in the model is: 35980178.39445007\n",
      "The mean absolute error's value is 4817.839444995055\n",
      "The error in the percentage is 0.01%\n"
     ]
    }
   ],
   "source": [
    "# Importing Linear Regression\n",
    "from sklearn.linear_model import LinearRegression\n",
    "\n",
    "#Importing pandas for data manipulation\n",
    "import pandas as pd\n",
    "\n",
    "#Immporting the matplot lib library for drawing\n",
    "import matplotlib.pyplot as plt\n",
    "\n",
    "\n",
    "#Loading the dataset\n",
    "data = pd.read_csv(\"house_area_vs_price.csv\")\n",
    "data.head()\n",
    "\n",
    "#Distributing the values of x and y for prediction\n",
    "x = data[['Area']]          #X is the dataframe\n",
    "y = data[\"Price\"]\n",
    "\n",
    "#Defining the model\n",
    "model = LinearRegression()\n",
    "model.fit(x,y)\n",
    "\n",
    "#Calculating the intercept and coefficient values\n",
    "a = model.intercept_\n",
    "print(a)\n",
    "\n",
    "b = model.coef_\n",
    "print(b)\n",
    "\n",
    "#Predicting the values of prediction that is made\n",
    "cost = a + b*data['Area']\n",
    "print(\"The cost of the house for certain area is:\", cost)\n",
    "\n",
    "#Plotting the linear regression fitting\n",
    "ypredicate = model.predict(x)\n",
    "ypredicate\n",
    "plt.scatter(x,y)\n",
    "plt.plot(x,ypredicate, color='red')\n",
    "plt.show()\n",
    "\n",
    "\n",
    "\n",
    "\n",
    "# Finding mean squared error\n",
    "from sklearn.metrics import mean_squared_error, mean_absolute_error, mean_absolute_percentage_error\n",
    "\n",
    "mse = mean_squared_error(y,ypredicate)\n",
    "print(\"The error in the model is:\", mse)\n",
    "\n",
    "#Finding the mean absolute error\n",
    "mae = mean_absolute_error(y,ypredicate)\n",
    "print(\"The mean absolute error's value is\", mae)\n",
    "\n",
    "#Finding the mean absolute percentage error\n",
    "mape = mean_absolute_percentage_error(y,ypredicate)\n",
    "print(f\"The error in the percentage is {mape:.2f}%\")\n",
    "\n"
   ]
  },
  {
   "cell_type": "markdown",
   "id": "d2a8d6a6",
   "metadata": {},
   "source": [
    "# Finding the Error in the Model"
   ]
  },
  {
   "cell_type": "code",
   "execution_count": 7,
   "id": "00fb4d90",
   "metadata": {},
   "outputs": [
    {
     "data": {
      "text/plain": [
       "'from sklearn.metrics import mean_squared_error\\n\\nmse = mean_squared_error(y,ypredicate)\\nprint(\"The error in the model is:\", mse)\\n'"
      ]
     },
     "execution_count": 7,
     "metadata": {},
     "output_type": "execute_result"
    }
   ],
   "source": [
    "# Using Mean Square Error\n",
    "\n",
    "\"\"\"from sklearn.metrics import mean_squared_error\n",
    "\n",
    "mse = mean_squared_error(y,ypredicate)\n",
    "print(\"The error in the model is:\", mse)\n",
    "\"\"\"\n"
   ]
  },
  {
   "cell_type": "code",
   "execution_count": null,
   "id": "b10e19c6",
   "metadata": {},
   "outputs": [],
   "source": [
    "# Using Mean Absolute Error\n",
    "\n",
    "\"\"\"mae = mean_absolute_error(y,ypredicate)\n",
    "print(\"The mean absolute error's value is\", mae)\"\"\""
   ]
  },
  {
   "cell_type": "code",
   "execution_count": null,
   "id": "6b27472e",
   "metadata": {},
   "outputs": [],
   "source": [
    "# Using Mean Absolute Percentage Error\n",
    "\n",
    "\"\"\"mape = mean_absolute_percentage_error(y,ypredicate)\n",
    "print(f\"The error in the percentage is {mape:.2f}%\")\"\"\""
   ]
  }
 ],
 "metadata": {
  "kernelspec": {
   "display_name": "Python 3",
   "language": "python",
   "name": "python3"
  },
  "language_info": {
   "codemirror_mode": {
    "name": "ipython",
    "version": 3
   },
   "file_extension": ".py",
   "mimetype": "text/x-python",
   "name": "python",
   "nbconvert_exporter": "python",
   "pygments_lexer": "ipython3",
   "version": "3.13.5"
  }
 },
 "nbformat": 4,
 "nbformat_minor": 5
}
